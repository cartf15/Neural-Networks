{
 "metadata": {
  "language_info": {
   "codemirror_mode": {
    "name": "ipython",
    "version": 3
   },
   "file_extension": ".py",
   "mimetype": "text/x-python",
   "name": "python",
   "nbconvert_exporter": "python",
   "pygments_lexer": "ipython3",
   "version": "3.7.3-final"
  },
  "orig_nbformat": 2,
  "kernelspec": {
   "name": "python3",
   "display_name": "Python 3.7.3 64-bit ('env')",
   "metadata": {
    "interpreter": {
     "hash": "c02d634db960341974e463f3f2081156cefc3f31eb4be4da43cd0961144aba10"
    }
   }
  }
 },
 "nbformat": 4,
 "nbformat_minor": 2,
 "cells": [
  {
   "cell_type": "code",
   "execution_count": 1,
   "metadata": {},
   "outputs": [],
   "source": [
    "import pandas as pd\n",
    "import numpy as np\n",
    "from math import sqrt\n",
    "from numpy import split\n",
    "from numpy import array\n",
    "from pandas import read_csv\n",
    "from sklearn.metrics import mean_squared_error\n",
    "from matplotlib import pyplot\n",
    "from statsmodels.graphics.tsaplots import plot_acf\n",
    "from statsmodels.graphics.tsaplots import plot_pacf\n",
    "from statsmodels.tsa.arima_model import ARIMA"
   ]
  },
  {
   "cell_type": "code",
   "execution_count": 6,
   "metadata": {},
   "outputs": [],
   "source": [
    "dataset = pd.read_csv('household_power_consumption.txt', sep=';', header=0, low_memory=False,\n",
    "infer_datetime_format=True, parse_dates={'datetime':[0,1]}, index_col=['datetime'])"
   ]
  },
  {
   "cell_type": "code",
   "execution_count": 7,
   "metadata": {},
   "outputs": [
    {
     "output_type": "execute_result",
     "data": {
      "text/plain": [
       "                    Global_active_power Global_reactive_power  Voltage  \\\n",
       "datetime                                                                 \n",
       "2006-12-16 17:24:00               4.216                 0.418  234.840   \n",
       "2006-12-16 17:25:00               5.360                 0.436  233.630   \n",
       "2006-12-16 17:26:00               5.374                 0.498  233.290   \n",
       "2006-12-16 17:27:00               5.388                 0.502  233.740   \n",
       "2006-12-16 17:28:00               3.666                 0.528  235.680   \n",
       "2006-12-16 17:29:00               3.520                 0.522  235.020   \n",
       "2006-12-16 17:30:00               3.702                 0.520  235.090   \n",
       "2006-12-16 17:31:00               3.700                 0.520  235.220   \n",
       "2006-12-16 17:32:00               3.668                 0.510  233.990   \n",
       "2006-12-16 17:33:00               3.662                 0.510  233.860   \n",
       "2006-12-16 17:34:00               4.448                 0.498  232.860   \n",
       "2006-12-16 17:35:00               5.412                 0.470  232.780   \n",
       "2006-12-16 17:36:00               5.224                 0.478  232.990   \n",
       "2006-12-16 17:37:00               5.268                 0.398  232.910   \n",
       "2006-12-16 17:38:00               4.054                 0.422  235.240   \n",
       "\n",
       "                    Global_intensity Sub_metering_1 Sub_metering_2  \\\n",
       "datetime                                                             \n",
       "2006-12-16 17:24:00           18.400          0.000          1.000   \n",
       "2006-12-16 17:25:00           23.000          0.000          1.000   \n",
       "2006-12-16 17:26:00           23.000          0.000          2.000   \n",
       "2006-12-16 17:27:00           23.000          0.000          1.000   \n",
       "2006-12-16 17:28:00           15.800          0.000          1.000   \n",
       "2006-12-16 17:29:00           15.000          0.000          2.000   \n",
       "2006-12-16 17:30:00           15.800          0.000          1.000   \n",
       "2006-12-16 17:31:00           15.800          0.000          1.000   \n",
       "2006-12-16 17:32:00           15.800          0.000          1.000   \n",
       "2006-12-16 17:33:00           15.800          0.000          2.000   \n",
       "2006-12-16 17:34:00           19.600          0.000          1.000   \n",
       "2006-12-16 17:35:00           23.200          0.000          1.000   \n",
       "2006-12-16 17:36:00           22.400          0.000          1.000   \n",
       "2006-12-16 17:37:00           22.600          0.000          2.000   \n",
       "2006-12-16 17:38:00           17.600          0.000          1.000   \n",
       "\n",
       "                     Sub_metering_3  \n",
       "datetime                             \n",
       "2006-12-16 17:24:00            17.0  \n",
       "2006-12-16 17:25:00            16.0  \n",
       "2006-12-16 17:26:00            17.0  \n",
       "2006-12-16 17:27:00            17.0  \n",
       "2006-12-16 17:28:00            17.0  \n",
       "2006-12-16 17:29:00            17.0  \n",
       "2006-12-16 17:30:00            17.0  \n",
       "2006-12-16 17:31:00            17.0  \n",
       "2006-12-16 17:32:00            17.0  \n",
       "2006-12-16 17:33:00            16.0  \n",
       "2006-12-16 17:34:00            17.0  \n",
       "2006-12-16 17:35:00            17.0  \n",
       "2006-12-16 17:36:00            16.0  \n",
       "2006-12-16 17:37:00            17.0  \n",
       "2006-12-16 17:38:00            17.0  "
      ],
      "text/html": "<div>\n<style scoped>\n    .dataframe tbody tr th:only-of-type {\n        vertical-align: middle;\n    }\n\n    .dataframe tbody tr th {\n        vertical-align: top;\n    }\n\n    .dataframe thead th {\n        text-align: right;\n    }\n</style>\n<table border=\"1\" class=\"dataframe\">\n  <thead>\n    <tr style=\"text-align: right;\">\n      <th></th>\n      <th>Global_active_power</th>\n      <th>Global_reactive_power</th>\n      <th>Voltage</th>\n      <th>Global_intensity</th>\n      <th>Sub_metering_1</th>\n      <th>Sub_metering_2</th>\n      <th>Sub_metering_3</th>\n    </tr>\n    <tr>\n      <th>datetime</th>\n      <th></th>\n      <th></th>\n      <th></th>\n      <th></th>\n      <th></th>\n      <th></th>\n      <th></th>\n    </tr>\n  </thead>\n  <tbody>\n    <tr>\n      <th>2006-12-16 17:24:00</th>\n      <td>4.216</td>\n      <td>0.418</td>\n      <td>234.840</td>\n      <td>18.400</td>\n      <td>0.000</td>\n      <td>1.000</td>\n      <td>17.0</td>\n    </tr>\n    <tr>\n      <th>2006-12-16 17:25:00</th>\n      <td>5.360</td>\n      <td>0.436</td>\n      <td>233.630</td>\n      <td>23.000</td>\n      <td>0.000</td>\n      <td>1.000</td>\n      <td>16.0</td>\n    </tr>\n    <tr>\n      <th>2006-12-16 17:26:00</th>\n      <td>5.374</td>\n      <td>0.498</td>\n      <td>233.290</td>\n      <td>23.000</td>\n      <td>0.000</td>\n      <td>2.000</td>\n      <td>17.0</td>\n    </tr>\n    <tr>\n      <th>2006-12-16 17:27:00</th>\n      <td>5.388</td>\n      <td>0.502</td>\n      <td>233.740</td>\n      <td>23.000</td>\n      <td>0.000</td>\n      <td>1.000</td>\n      <td>17.0</td>\n    </tr>\n    <tr>\n      <th>2006-12-16 17:28:00</th>\n      <td>3.666</td>\n      <td>0.528</td>\n      <td>235.680</td>\n      <td>15.800</td>\n      <td>0.000</td>\n      <td>1.000</td>\n      <td>17.0</td>\n    </tr>\n    <tr>\n      <th>2006-12-16 17:29:00</th>\n      <td>3.520</td>\n      <td>0.522</td>\n      <td>235.020</td>\n      <td>15.000</td>\n      <td>0.000</td>\n      <td>2.000</td>\n      <td>17.0</td>\n    </tr>\n    <tr>\n      <th>2006-12-16 17:30:00</th>\n      <td>3.702</td>\n      <td>0.520</td>\n      <td>235.090</td>\n      <td>15.800</td>\n      <td>0.000</td>\n      <td>1.000</td>\n      <td>17.0</td>\n    </tr>\n    <tr>\n      <th>2006-12-16 17:31:00</th>\n      <td>3.700</td>\n      <td>0.520</td>\n      <td>235.220</td>\n      <td>15.800</td>\n      <td>0.000</td>\n      <td>1.000</td>\n      <td>17.0</td>\n    </tr>\n    <tr>\n      <th>2006-12-16 17:32:00</th>\n      <td>3.668</td>\n      <td>0.510</td>\n      <td>233.990</td>\n      <td>15.800</td>\n      <td>0.000</td>\n      <td>1.000</td>\n      <td>17.0</td>\n    </tr>\n    <tr>\n      <th>2006-12-16 17:33:00</th>\n      <td>3.662</td>\n      <td>0.510</td>\n      <td>233.860</td>\n      <td>15.800</td>\n      <td>0.000</td>\n      <td>2.000</td>\n      <td>16.0</td>\n    </tr>\n    <tr>\n      <th>2006-12-16 17:34:00</th>\n      <td>4.448</td>\n      <td>0.498</td>\n      <td>232.860</td>\n      <td>19.600</td>\n      <td>0.000</td>\n      <td>1.000</td>\n      <td>17.0</td>\n    </tr>\n    <tr>\n      <th>2006-12-16 17:35:00</th>\n      <td>5.412</td>\n      <td>0.470</td>\n      <td>232.780</td>\n      <td>23.200</td>\n      <td>0.000</td>\n      <td>1.000</td>\n      <td>17.0</td>\n    </tr>\n    <tr>\n      <th>2006-12-16 17:36:00</th>\n      <td>5.224</td>\n      <td>0.478</td>\n      <td>232.990</td>\n      <td>22.400</td>\n      <td>0.000</td>\n      <td>1.000</td>\n      <td>16.0</td>\n    </tr>\n    <tr>\n      <th>2006-12-16 17:37:00</th>\n      <td>5.268</td>\n      <td>0.398</td>\n      <td>232.910</td>\n      <td>22.600</td>\n      <td>0.000</td>\n      <td>2.000</td>\n      <td>17.0</td>\n    </tr>\n    <tr>\n      <th>2006-12-16 17:38:00</th>\n      <td>4.054</td>\n      <td>0.422</td>\n      <td>235.240</td>\n      <td>17.600</td>\n      <td>0.000</td>\n      <td>1.000</td>\n      <td>17.0</td>\n    </tr>\n  </tbody>\n</table>\n</div>"
     },
     "metadata": {},
     "execution_count": 7
    }
   ],
   "source": [
    "dataset.head(15)"
   ]
  },
  {
   "cell_type": "code",
   "execution_count": 13,
   "metadata": {},
   "outputs": [],
   "source": [
    "values_array=dataset.values"
   ]
  },
  {
   "cell_type": "code",
   "execution_count": 15,
   "metadata": {},
   "outputs": [
    {
     "output_type": "execute_result",
     "data": {
      "text/plain": [
       "(2075259, 7)"
      ]
     },
     "metadata": {},
     "execution_count": 15
    }
   ],
   "source": [
    "values_array.shape\n",
    "# dataset.shape"
   ]
  },
  {
   "cell_type": "code",
   "execution_count": 19,
   "metadata": {},
   "outputs": [
    {
     "output_type": "execute_result",
     "data": {
      "text/plain": [
       "array(['4.216', '0.418', '234.840', '18.400', '0.000', '1.000', 17.0],\n",
       "      dtype=object)"
      ]
     },
     "metadata": {},
     "execution_count": 19
    }
   ],
   "source": [
    "values_array[0]"
   ]
  },
  {
   "cell_type": "code",
   "execution_count": 22,
   "metadata": {},
   "outputs": [],
   "source": [
    "r=values_array[0].reshape(1,1,7)"
   ]
  },
  {
   "cell_type": "code",
   "execution_count": 39,
   "metadata": {},
   "outputs": [],
   "source": [
    "# samples, time steps, features\n",
    "values_areshaped=values_array.reshape(691753,3,7)"
   ]
  },
  {
   "cell_type": "code",
   "execution_count": 43,
   "metadata": {},
   "outputs": [],
   "source": [
    "df2=pd.DataFrame\n",
    "df2.values=values_areshaped\n",
    "df2.columns=dataset.columns"
   ]
  },
  {
   "cell_type": "code",
   "execution_count": 50,
   "metadata": {},
   "outputs": [
    {
     "output_type": "execute_result",
     "data": {
      "text/plain": [
       "array([['4.216', '0.418', '234.840', '18.400', '0.000', '1.000', 17.0],\n",
       "       ['5.360', '0.436', '233.630', '23.000', '0.000', '1.000', 16.0],\n",
       "       ['5.374', '0.498', '233.290', '23.000', '0.000', '2.000', 17.0]],\n",
       "      dtype=object)"
      ]
     },
     "metadata": {},
     "execution_count": 50
    }
   ],
   "source": [
    "df2.values[0]"
   ]
  },
  {
   "cell_type": "code",
   "execution_count": 51,
   "metadata": {},
   "outputs": [
    {
     "output_type": "execute_result",
     "data": {
      "text/plain": [
       "array([['5.388', '0.502', '233.740', '23.000', '0.000', '1.000', 17.0],\n",
       "       ['3.666', '0.528', '235.680', '15.800', '0.000', '1.000', 17.0],\n",
       "       ['3.520', '0.522', '235.020', '15.000', '0.000', '2.000', 17.0]],\n",
       "      dtype=object)"
      ]
     },
     "metadata": {},
     "execution_count": 51
    }
   ],
   "source": [
    "df2.values[1]"
   ]
  },
  {
   "cell_type": "code",
   "execution_count": 53,
   "metadata": {},
   "outputs": [
    {
     "output_type": "stream",
     "name": "stdout",
     "text": [
      "(25, 200, 1)\n"
     ]
    }
   ],
   "source": [
    "from numpy import array\n",
    "# define the dataset\n",
    "data = list()\n",
    "n = 5000\n",
    "for i in range(n):\n",
    "    data.append([i+1, (i+1)*10])\n",
    "data = array(data)\n",
    "# drop time\n",
    "data = data[:, 1]\n",
    "# split into samples (e.g. 5000/200 = 25)\n",
    "samples = list()\n",
    "length = 200\n",
    "# step over the 5,000 in jumps of 200\n",
    "for i in range(0,n,length):\n",
    "    # grab from i to i + 200\n",
    "    sample = data[i:i+length]\n",
    "    samples.append(sample)\n",
    "# convert list of arrays into 2d array\n",
    "data = array(samples)\n",
    "# reshape into [samples, timesteps, features]\n",
    "data = data.reshape((len(samples), length, 1))\n",
    "print(data.shape)"
   ]
  },
  {
   "cell_type": "code",
   "execution_count": 71,
   "metadata": {},
   "outputs": [],
   "source": [
    "# data[1]"
   ]
  },
  {
   "cell_type": "code",
   "execution_count": 2,
   "metadata": {},
   "outputs": [
    {
     "output_type": "error",
     "ename": "ImportError",
     "evalue": "Keras requires TensorFlow 2.2 or higher. Install TensorFlow via `pip install tensorflow`",
     "traceback": [
      "\u001b[1;31m---------------------------------------------------------------------------\u001b[0m",
      "\u001b[1;31mImportError\u001b[0m                               Traceback (most recent call last)",
      "\u001b[1;32mc:\\Camilo Restrepo\\CODE\\Cnn Lstm\\env\\lib\\site-packages\\tensorflow\\python\\pywrap_tensorflow.py\u001b[0m in \u001b[0;36m<module>\u001b[1;34m\u001b[0m\n\u001b[0;32m     63\u001b[0m   \u001b[1;32mtry\u001b[0m\u001b[1;33m:\u001b[0m\u001b[1;33m\u001b[0m\u001b[1;33m\u001b[0m\u001b[0m\n\u001b[1;32m---> 64\u001b[1;33m     \u001b[1;32mfrom\u001b[0m \u001b[0mtensorflow\u001b[0m\u001b[1;33m.\u001b[0m\u001b[0mpython\u001b[0m\u001b[1;33m.\u001b[0m\u001b[0m_pywrap_tensorflow_internal\u001b[0m \u001b[1;32mimport\u001b[0m \u001b[1;33m*\u001b[0m\u001b[1;33m\u001b[0m\u001b[1;33m\u001b[0m\u001b[0m\n\u001b[0m\u001b[0;32m     65\u001b[0m   \u001b[1;31m# This try catch logic is because there is no bazel equivalent for py_extension.\u001b[0m\u001b[1;33m\u001b[0m\u001b[1;33m\u001b[0m\u001b[1;33m\u001b[0m\u001b[0m\n",
      "\u001b[1;31mImportError\u001b[0m: DLL load failed: No se puede encontrar el módulo especificado.",
      "\nDuring handling of the above exception, another exception occurred:\n",
      "\u001b[1;31mImportError\u001b[0m                               Traceback (most recent call last)",
      "\u001b[1;32mc:\\Camilo Restrepo\\CODE\\Cnn Lstm\\env\\lib\\site-packages\\keras\\__init__.py\u001b[0m in \u001b[0;36m<module>\u001b[1;34m\u001b[0m\n\u001b[0;32m      2\u001b[0m \u001b[1;32mtry\u001b[0m\u001b[1;33m:\u001b[0m\u001b[1;33m\u001b[0m\u001b[1;33m\u001b[0m\u001b[0m\n\u001b[1;32m----> 3\u001b[1;33m     \u001b[1;32mfrom\u001b[0m \u001b[0mtensorflow\u001b[0m\u001b[1;33m.\u001b[0m\u001b[0mkeras\u001b[0m\u001b[1;33m.\u001b[0m\u001b[0mlayers\u001b[0m\u001b[1;33m.\u001b[0m\u001b[0mexperimental\u001b[0m\u001b[1;33m.\u001b[0m\u001b[0mpreprocessing\u001b[0m \u001b[1;32mimport\u001b[0m \u001b[0mRandomRotation\u001b[0m\u001b[1;33m\u001b[0m\u001b[1;33m\u001b[0m\u001b[0m\n\u001b[0m\u001b[0;32m      4\u001b[0m \u001b[1;32mexcept\u001b[0m \u001b[0mImportError\u001b[0m\u001b[1;33m:\u001b[0m\u001b[1;33m\u001b[0m\u001b[1;33m\u001b[0m\u001b[0m\n",
      "\u001b[1;32mc:\\Camilo Restrepo\\CODE\\Cnn Lstm\\env\\lib\\site-packages\\tensorflow\\__init__.py\u001b[0m in \u001b[0;36m<module>\u001b[1;34m\u001b[0m\n\u001b[0;32m     40\u001b[0m \u001b[1;33m\u001b[0m\u001b[0m\n\u001b[1;32m---> 41\u001b[1;33m \u001b[1;32mfrom\u001b[0m \u001b[0mtensorflow\u001b[0m\u001b[1;33m.\u001b[0m\u001b[0mpython\u001b[0m\u001b[1;33m.\u001b[0m\u001b[0mtools\u001b[0m \u001b[1;32mimport\u001b[0m \u001b[0mmodule_util\u001b[0m \u001b[1;32mas\u001b[0m \u001b[0m_module_util\u001b[0m\u001b[1;33m\u001b[0m\u001b[1;33m\u001b[0m\u001b[0m\n\u001b[0m\u001b[0;32m     42\u001b[0m \u001b[1;32mfrom\u001b[0m \u001b[0mtensorflow\u001b[0m\u001b[1;33m.\u001b[0m\u001b[0mpython\u001b[0m\u001b[1;33m.\u001b[0m\u001b[0mutil\u001b[0m\u001b[1;33m.\u001b[0m\u001b[0mlazy_loader\u001b[0m \u001b[1;32mimport\u001b[0m \u001b[0mLazyLoader\u001b[0m \u001b[1;32mas\u001b[0m \u001b[0m_LazyLoader\u001b[0m\u001b[1;33m\u001b[0m\u001b[1;33m\u001b[0m\u001b[0m\n",
      "\u001b[1;32mc:\\Camilo Restrepo\\CODE\\Cnn Lstm\\env\\lib\\site-packages\\tensorflow\\python\\__init__.py\u001b[0m in \u001b[0;36m<module>\u001b[1;34m\u001b[0m\n\u001b[0;32m     38\u001b[0m \u001b[1;31m# pylint: disable=wildcard-import,g-bad-import-order,g-import-not-at-top\u001b[0m\u001b[1;33m\u001b[0m\u001b[1;33m\u001b[0m\u001b[1;33m\u001b[0m\u001b[0m\n\u001b[1;32m---> 39\u001b[1;33m \u001b[1;32mfrom\u001b[0m \u001b[0mtensorflow\u001b[0m\u001b[1;33m.\u001b[0m\u001b[0mpython\u001b[0m \u001b[1;32mimport\u001b[0m \u001b[0mpywrap_tensorflow\u001b[0m \u001b[1;32mas\u001b[0m \u001b[0m_pywrap_tensorflow\u001b[0m\u001b[1;33m\u001b[0m\u001b[1;33m\u001b[0m\u001b[0m\n\u001b[0m\u001b[0;32m     40\u001b[0m \u001b[1;33m\u001b[0m\u001b[0m\n",
      "\u001b[1;32mc:\\Camilo Restrepo\\CODE\\Cnn Lstm\\env\\lib\\site-packages\\tensorflow\\python\\pywrap_tensorflow.py\u001b[0m in \u001b[0;36m<module>\u001b[1;34m\u001b[0m\n\u001b[0;32m     82\u001b[0m above this error message when asking for help.\"\"\" % traceback.format_exc()\n\u001b[1;32m---> 83\u001b[1;33m   \u001b[1;32mraise\u001b[0m \u001b[0mImportError\u001b[0m\u001b[1;33m(\u001b[0m\u001b[0mmsg\u001b[0m\u001b[1;33m)\u001b[0m\u001b[1;33m\u001b[0m\u001b[1;33m\u001b[0m\u001b[0m\n\u001b[0m\u001b[0;32m     84\u001b[0m \u001b[1;33m\u001b[0m\u001b[0m\n",
      "\u001b[1;31mImportError\u001b[0m: Traceback (most recent call last):\n  File \"c:\\Camilo Restrepo\\CODE\\Cnn Lstm\\env\\lib\\site-packages\\tensorflow\\python\\pywrap_tensorflow.py\", line 64, in <module>\n    from tensorflow.python._pywrap_tensorflow_internal import *\nImportError: DLL load failed: No se puede encontrar el módulo especificado.\n\n\nFailed to load the native TensorFlow runtime.\n\nSee https://www.tensorflow.org/install/errors\n\nfor some common reasons and solutions.  Include the entire stack trace\nabove this error message when asking for help.",
      "\nDuring handling of the above exception, another exception occurred:\n",
      "\u001b[1;31mImportError\u001b[0m                               Traceback (most recent call last)",
      "\u001b[1;32m<ipython-input-2-3982d8b82a1a>\u001b[0m in \u001b[0;36m<module>\u001b[1;34m\u001b[0m\n\u001b[0;32m      1\u001b[0m \u001b[1;32mfrom\u001b[0m \u001b[0mnumpy\u001b[0m \u001b[1;32mimport\u001b[0m \u001b[0marray\u001b[0m\u001b[1;33m\u001b[0m\u001b[1;33m\u001b[0m\u001b[0m\n\u001b[0;32m      2\u001b[0m \u001b[1;32mfrom\u001b[0m \u001b[0mnumpy\u001b[0m \u001b[1;32mimport\u001b[0m \u001b[0mhstack\u001b[0m\u001b[1;33m\u001b[0m\u001b[1;33m\u001b[0m\u001b[0m\n\u001b[1;32m----> 3\u001b[1;33m \u001b[1;32mfrom\u001b[0m \u001b[0mkeras\u001b[0m\u001b[1;33m.\u001b[0m\u001b[0mmodels\u001b[0m \u001b[1;32mimport\u001b[0m \u001b[0mSequential\u001b[0m\u001b[1;33m\u001b[0m\u001b[1;33m\u001b[0m\u001b[0m\n\u001b[0m\u001b[0;32m      4\u001b[0m \u001b[1;32mfrom\u001b[0m \u001b[0mkeras\u001b[0m\u001b[1;33m.\u001b[0m\u001b[0mlayers\u001b[0m \u001b[1;32mimport\u001b[0m \u001b[0mDense\u001b[0m\u001b[1;33m\u001b[0m\u001b[1;33m\u001b[0m\u001b[0m\n\u001b[0;32m      5\u001b[0m \u001b[1;31m# split a multivariate sequence into samples\u001b[0m\u001b[1;33m\u001b[0m\u001b[1;33m\u001b[0m\u001b[1;33m\u001b[0m\u001b[0m\n",
      "\u001b[1;32mc:\\Camilo Restrepo\\CODE\\Cnn Lstm\\env\\lib\\site-packages\\keras\\__init__.py\u001b[0m in \u001b[0;36m<module>\u001b[1;34m\u001b[0m\n\u001b[0;32m      4\u001b[0m \u001b[1;32mexcept\u001b[0m \u001b[0mImportError\u001b[0m\u001b[1;33m:\u001b[0m\u001b[1;33m\u001b[0m\u001b[1;33m\u001b[0m\u001b[0m\n\u001b[0;32m      5\u001b[0m     raise ImportError(\n\u001b[1;32m----> 6\u001b[1;33m         \u001b[1;34m'Keras requires TensorFlow 2.2 or higher. '\u001b[0m\u001b[1;33m\u001b[0m\u001b[1;33m\u001b[0m\u001b[0m\n\u001b[0m\u001b[0;32m      7\u001b[0m         'Install TensorFlow via `pip install tensorflow`')\n\u001b[0;32m      8\u001b[0m \u001b[1;33m\u001b[0m\u001b[0m\n",
      "\u001b[1;31mImportError\u001b[0m: Keras requires TensorFlow 2.2 or higher. Install TensorFlow via `pip install tensorflow`"
     ]
    }
   ],
   "source": [
    "from numpy import array\n",
    "from numpy import hstack\n",
    "from keras.models import Sequential\n",
    "from keras.layers import Dense\n",
    "# split a multivariate sequence into samples\n",
    "def split_sequences(sequences, n_steps):\n",
    "    X, y = list(), list()\n",
    "    for i in range(len(sequences)):\n",
    "        # find the end of this pattern\n",
    "        end_ix = i + n_steps\n",
    "        # check if we are beyond the dataset\n",
    "        if end_ix > len(sequences):\n",
    "            break\n",
    "        # gather input and output parts of the pattern\n",
    "        seq_x, seq_y = sequences[i:end_ix, :-1], sequences[end_ix-1, -1]\n",
    "        X.append(seq_x)\n",
    "        y.append(seq_y)\n",
    "    return array(X), array(y)\n",
    "        # define input sequence\n"
   ]
  },
  {
   "cell_type": "code",
   "execution_count": 87,
   "metadata": {},
   "outputs": [
    {
     "output_type": "stream",
     "name": "stdout",
     "text": [
      "1/1 [==============================] - 0s 42ms/step\n",
      "[[205.31685]]\n"
     ]
    }
   ],
   "source": [
    "in_seq1 = array([10, 20, 30, 40, 50, 60, 70, 80, 90])\n",
    "in_seq2 = array([15, 25, 35, 45, 55, 65, 75, 85, 95])\n",
    "out_seq = array([in_seq1[i]+  in_seq2[i] for i in range(len(in_seq1))   ])\n",
    "# convert to [rows, columns] structure\n",
    "in_seq1 = in_seq1.reshape((len(in_seq1), 1))\n",
    "in_seq2 = in_seq2.reshape((len(in_seq2), 1))\n",
    "out_seq = out_seq.reshape((len(out_seq), 1))\n",
    "# horizontally stack columns\n",
    "dataset = hstack((in_seq1, in_seq2, out_seq))\n",
    "# choose a number of time steps\n",
    "n_steps = 3\n",
    "# convert into input/output\n",
    "X, y = split_sequences(dataset, n_steps)\n",
    "# flatten input\n",
    "n_input = X.shape[1] * X.shape[2]\n",
    "X = X.reshape((X.shape[0], n_input))\n",
    "# define model\n",
    "model = Sequential()\n",
    "model.add(Dense(100, activation='relu', input_dim=n_input))\n",
    "model.add(Dense(1))\n",
    "model.compile(optimizer='adam', loss='mse')\n",
    "# fit model\n",
    "model.fit(X, y, epochs=2000, verbose=0)\n",
    "# demonstrate prediction\n",
    "x_input = array([[80, 85], [90, 95], [100, 105]])\n",
    "x_input = x_input.reshape((1, n_input))\n",
    "yhat = model.predict(x_input, verbose=0)\n",
    "print(yhat)"
   ]
  },
  {
   "cell_type": "code",
   "execution_count": 84,
   "metadata": {},
   "outputs": [
    {
     "output_type": "execute_result",
     "data": {
      "text/plain": [
       "array([[10, 15, 20, 25, 30, 35],\n",
       "       [20, 25, 30, 35, 40, 45],\n",
       "       [30, 35, 40, 45, 50, 55],\n",
       "       [40, 45, 50, 55, 60, 65],\n",
       "       [50, 55, 60, 65, 70, 75],\n",
       "       [60, 65, 70, 75, 80, 85],\n",
       "       [70, 75, 80, 85, 90, 95]])"
      ]
     },
     "metadata": {},
     "execution_count": 84
    }
   ],
   "source": [
    "X"
   ]
  },
  {
   "cell_type": "code",
   "execution_count": 86,
   "metadata": {},
   "outputs": [
    {
     "output_type": "execute_result",
     "data": {
      "text/plain": [
       "array([[ 80,  85,  90,  95, 100, 105]])"
      ]
     },
     "metadata": {},
     "execution_count": 86
    }
   ],
   "source": [
    "x_input"
   ]
  },
  {
   "cell_type": "code",
   "execution_count": 29,
   "metadata": {},
   "outputs": [],
   "source": [
    "x= array([[5.1, 3.5, 1.4, 0.2],\n",
    "          [4.9, 3. , 1.4, 0.2],\n",
    "          [4.7, 3.2, 1.3, 0.2],\n",
    "          [4.6, 3.1, 1.5, 0.2],\n",
    "          [5. , 3.6, 1.4, 0.2],\n",
    "          [5.4, 3.9, 1.7, 0.4],\n",
    "          [4.6, 3.4, 1.4, 0.3],\n",
    "          [5. , 3.4, 1.5, 0.2],\n",
    "          [4.4, 2.9, 1.4, 0.2]])\n",
    "\n"
   ]
  },
  {
   "cell_type": "code",
   "execution_count": 30,
   "metadata": {},
   "outputs": [
    {
     "output_type": "error",
     "ename": "IndexError",
     "evalue": "too many indices for array: array is 2-dimensional, but 3 were indexed",
     "traceback": [
      "\u001b[1;31m---------------------------------------------------------------------------\u001b[0m",
      "\u001b[1;31mIndexError\u001b[0m                                Traceback (most recent call last)",
      "\u001b[1;32m<ipython-input-30-43f2a719e6de>\u001b[0m in \u001b[0;36m<module>\u001b[1;34m\u001b[0m\n\u001b[0;32m      3\u001b[0m \u001b[1;31m# x[3,3] #would mean u want the 3 row and the 3 column value\u001b[0m\u001b[1;33m\u001b[0m\u001b[1;33m\u001b[0m\u001b[1;33m\u001b[0m\u001b[0m\n\u001b[0;32m      4\u001b[0m \u001b[1;33m\u001b[0m\u001b[0m\n\u001b[1;32m----> 5\u001b[1;33m \u001b[0mx\u001b[0m\u001b[1;33m[\u001b[0m\u001b[1;33m:\u001b[0m\u001b[1;33m,\u001b[0m\u001b[1;33m:\u001b[0m\u001b[1;33m,\u001b[0m\u001b[1;36m0\u001b[0m\u001b[1;33m]\u001b[0m\u001b[1;31m# would mean u want the rows and columns until 3\u001b[0m\u001b[1;33m\u001b[0m\u001b[1;33m\u001b[0m\u001b[0m\n\u001b[0m\u001b[0;32m      6\u001b[0m \u001b[1;33m\u001b[0m\u001b[0m\n\u001b[0;32m      7\u001b[0m \u001b[1;31m# x[:, 3] #would mean u want the 3 column and every row\u001b[0m\u001b[1;33m\u001b[0m\u001b[1;33m\u001b[0m\u001b[1;33m\u001b[0m\u001b[0m\n",
      "\u001b[1;31mIndexError\u001b[0m: too many indices for array: array is 2-dimensional, but 3 were indexed"
     ]
    }
   ],
   "source": [
    "# x[:,:] # would mean u want every row and every column.\n",
    "\n",
    "# x[3,3] #would mean u want the 3 row and the 3 column value\n",
    "\n",
    "x[:,:,0]# would mean u want the rows and columns until 3\n",
    "\n",
    "# x[:, 3] #would mean u want the 3 column and every row"
   ]
  },
  {
   "cell_type": "code",
   "execution_count": 7,
   "metadata": {},
   "outputs": [
    {
     "output_type": "stream",
     "name": "stdout",
     "text": [
      "name: [1.123] 0.1, 0.1, 0.5\n"
     ]
    }
   ],
   "source": [
    "scores =[0.123123,0.123123,0.5244325]\n",
    "score=1.123\n",
    "s_scores=', '.join(['%.1f' % s for s in scores])\n",
    "print('%s: [%.3f] %s' % ('name', score, s_scores))"
   ]
  }
 ]
}