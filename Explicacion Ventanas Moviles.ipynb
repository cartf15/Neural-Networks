{
 "metadata": {
  "language_info": {
   "codemirror_mode": {
    "name": "ipython",
    "version": 3
   },
   "file_extension": ".py",
   "mimetype": "text/x-python",
   "name": "python",
   "nbconvert_exporter": "python",
   "pygments_lexer": "ipython3",
   "version": "3.7.3-final"
  },
  "orig_nbformat": 2,
  "kernelspec": {
   "name": "myenv",
   "display_name": "myenv",
   "language": "python"
  }
 },
 "nbformat": 4,
 "nbformat_minor": 2,
 "cells": [
  {
   "source": [
    "## Modelo Una sola Variable"
   ],
   "cell_type": "markdown",
   "metadata": {}
  },
  {
   "cell_type": "code",
   "execution_count": 2,
   "metadata": {},
   "outputs": [],
   "source": [
    "from math import sqrt\n",
    "from numpy import split\n",
    "from numpy import array\n",
    "from pandas import read_csv"
   ]
  },
  {
   "cell_type": "code",
   "execution_count": 4,
   "metadata": {},
   "outputs": [],
   "source": [
    "dataset = read_csv('household_power_consumption_days.csv', header=0,\n",
    "infer_datetime_format=True, parse_dates=['datetime'], index_col=['datetime'])\n",
    "data=dataset.values"
   ]
  },
  {
   "cell_type": "code",
   "execution_count": 5,
   "metadata": {},
   "outputs": [],
   "source": [
    "#Split dataset\n",
    "\n",
    "train, test = data[1:-328], data[-328:-6]\n",
    "# restructure into windows of weekly data\n",
    "train = array(split(train, len(train)/7))\n",
    "test = array(split(test, len(test)/7))\n"
   ]
  },
  {
   "cell_type": "code",
   "execution_count": 26,
   "metadata": {},
   "outputs": [
    {
     "output_type": "execute_result",
     "data": {
      "text/plain": [
       "46"
      ]
     },
     "metadata": {},
     "execution_count": 26
    }
   ],
   "source": [
    "len(test)"
   ]
  },
  {
   "cell_type": "code",
   "execution_count": 12,
   "metadata": {},
   "outputs": [],
   "source": [
    "#to_supervised\n",
    "n_input=14\n",
    "n_out=7\n",
    "data = train.reshape((train.shape[0]*train.shape[1], train.shape[2]))\n",
    "X, y = list(), list()\n",
    "in_start = 0\n",
    "# step over the entire history one time step at a time\n",
    "for _ in range(len(data)):\n",
    "    # define the end of the input sequence\n",
    "    in_end = in_start + n_input\n",
    "    out_end = in_end + n_out\n",
    "    # ensure we have enough data for this instance\n",
    "    if out_end < len(data):\n",
    "        x_input = data[in_start:in_end, 0]\n",
    "        x_input = x_input.reshape((len(x_input), 1))\n",
    "        X.append(x_input)\n",
    "        y.append(data[in_end:out_end, 0])\n",
    "    # move along one time step\n",
    "    in_start += 1\n",
    "train_x, train_y = array(X), array(y)"
   ]
  },
  {
   "cell_type": "code",
   "execution_count": 13,
   "metadata": {},
   "outputs": [
    {
     "output_type": "execute_result",
     "data": {
      "text/plain": [
       "array([[3390.46 ],\n",
       "       [2203.826],\n",
       "       [1666.194],\n",
       "       [2225.748],\n",
       "       [1723.288],\n",
       "       [2341.338],\n",
       "       [4773.386],\n",
       "       [2550.012],\n",
       "       [2743.12 ],\n",
       "       [3934.11 ],\n",
       "       [1528.76 ],\n",
       "       [2072.638],\n",
       "       [3174.392],\n",
       "       [2796.108]])"
      ]
     },
     "metadata": {},
     "execution_count": 13
    }
   ],
   "source": [
    "train_x[0]"
   ]
  },
  {
   "cell_type": "code",
   "execution_count": 31,
   "metadata": {},
   "outputs": [
    {
     "output_type": "execute_result",
     "data": {
      "text/plain": [
       "array([3494.196, 2749.004, 1269.236, 1014.054, 3259.412, 2713.364,\n",
       "       1508.378])"
      ]
     },
     "metadata": {},
     "execution_count": 31
    }
   ],
   "source": [
    "train_y[0]"
   ]
  },
  {
   "cell_type": "code",
   "execution_count": 32,
   "metadata": {},
   "outputs": [
    {
     "output_type": "execute_result",
     "data": {
      "text/plain": [
       "            Global_active_power  Global_reactive_power    Voltage  \\\n",
       "datetime                                                            \n",
       "2006-12-16             1209.176                 34.922   93552.53   \n",
       "2006-12-17             3390.460                226.006  345725.32   \n",
       "2006-12-18             2203.826                161.792  347373.64   \n",
       "2006-12-19             1666.194                150.942  348479.01   \n",
       "2006-12-20             2225.748                160.998  348923.61   \n",
       "2006-12-21             1723.288                144.434  347096.41   \n",
       "2006-12-22             2341.338                186.906  347305.75   \n",
       "2006-12-23             4773.386                221.470  345795.95   \n",
       "2006-12-24             2550.012                149.900  348029.91   \n",
       "2006-12-25             2743.120                240.280  350495.90   \n",
       "2006-12-26             3934.110                165.102  347940.63   \n",
       "2006-12-27             1528.760                178.902  351025.00   \n",
       "2006-12-28             2072.638                208.876  350306.40   \n",
       "2006-12-29             3174.392                196.394  346854.68   \n",
       "2006-12-30             2796.108                312.142  346377.15   \n",
       "2006-12-31             3494.196                150.852  345451.07   \n",
       "2007-01-01             2749.004                148.166  345785.73   \n",
       "2007-01-02             1269.236                190.342  348399.04   \n",
       "2007-01-03             1014.054                196.728  350722.21   \n",
       "2007-01-04             3259.412                202.302  345240.43   \n",
       "\n",
       "            Global_intensity  Kitchen  Laundry_room  Electronic_devices  \\\n",
       "datetime                                                                  \n",
       "2006-12-16            5180.8      0.0         546.0              4926.0   \n",
       "2006-12-17           14398.6   2033.0        4187.0             13341.0   \n",
       "2006-12-18            9247.2   1063.0        2621.0             14018.0   \n",
       "2006-12-19            7094.0    839.0        7602.0              6197.0   \n",
       "2006-12-20            9313.0      0.0        2648.0             14063.0   \n",
       "2006-12-21            7266.4   1765.0        2692.0             10456.0   \n",
       "2006-12-22            9897.0   3151.0         350.0             11131.0   \n",
       "2006-12-23           20200.4   2669.0         425.0             14726.0   \n",
       "2006-12-24           11002.2   1703.0        5082.0              6891.0   \n",
       "2006-12-25           11450.2   6620.0        1962.0              5795.0   \n",
       "2006-12-26           16341.0   1086.0        2533.0             14979.0   \n",
       "2006-12-27            6505.2      0.0         314.0              6976.0   \n",
       "2006-12-28            8764.2   2207.0        4419.0              9176.0   \n",
       "2006-12-29           13350.8   1252.0        5162.0             11329.0   \n",
       "2006-12-30           11952.6   3072.0        7893.0             12516.0   \n",
       "2006-12-31           14687.4      0.0         347.0              6502.0   \n",
       "2007-01-01           11400.4      0.0         352.0              5880.0   \n",
       "2007-01-02            5348.2      0.0         348.0              6562.0   \n",
       "2007-01-03            4340.2      0.0         344.0              4765.0   \n",
       "2007-01-04           13648.6   1051.0        7597.0             10896.0   \n",
       "\n",
       "            Residual_Energy  \n",
       "datetime                     \n",
       "2006-12-16     14680.933319  \n",
       "2006-12-17     36946.666732  \n",
       "2006-12-18     19028.433281  \n",
       "2006-12-19     13131.900043  \n",
       "2006-12-20     20384.800011  \n",
       "2006-12-21     13808.466697  \n",
       "2006-12-22     24390.300043  \n",
       "2006-12-23     61736.433386  \n",
       "2006-12-24     28824.199967  \n",
       "2006-12-25     31341.666629  \n",
       "2006-12-26     46970.500071  \n",
       "2006-12-27     18189.333302  \n",
       "2006-12-28     18741.966606  \n",
       "2006-12-29     35163.533293  \n",
       "2006-12-30     23120.800045  \n",
       "2006-12-31     51387.600002  \n",
       "2007-01-01     39584.733275  \n",
       "2007-01-02     14243.933346  \n",
       "2007-01-03     11791.900019  \n",
       "2007-01-04     34779.533289  "
      ],
      "text/html": "<div>\n<style scoped>\n    .dataframe tbody tr th:only-of-type {\n        vertical-align: middle;\n    }\n\n    .dataframe tbody tr th {\n        vertical-align: top;\n    }\n\n    .dataframe thead th {\n        text-align: right;\n    }\n</style>\n<table border=\"1\" class=\"dataframe\">\n  <thead>\n    <tr style=\"text-align: right;\">\n      <th></th>\n      <th>Global_active_power</th>\n      <th>Global_reactive_power</th>\n      <th>Voltage</th>\n      <th>Global_intensity</th>\n      <th>Kitchen</th>\n      <th>Laundry_room</th>\n      <th>Electronic_devices</th>\n      <th>Residual_Energy</th>\n    </tr>\n    <tr>\n      <th>datetime</th>\n      <th></th>\n      <th></th>\n      <th></th>\n      <th></th>\n      <th></th>\n      <th></th>\n      <th></th>\n      <th></th>\n    </tr>\n  </thead>\n  <tbody>\n    <tr>\n      <th>2006-12-16</th>\n      <td>1209.176</td>\n      <td>34.922</td>\n      <td>93552.53</td>\n      <td>5180.8</td>\n      <td>0.0</td>\n      <td>546.0</td>\n      <td>4926.0</td>\n      <td>14680.933319</td>\n    </tr>\n    <tr>\n      <th>2006-12-17</th>\n      <td>3390.460</td>\n      <td>226.006</td>\n      <td>345725.32</td>\n      <td>14398.6</td>\n      <td>2033.0</td>\n      <td>4187.0</td>\n      <td>13341.0</td>\n      <td>36946.666732</td>\n    </tr>\n    <tr>\n      <th>2006-12-18</th>\n      <td>2203.826</td>\n      <td>161.792</td>\n      <td>347373.64</td>\n      <td>9247.2</td>\n      <td>1063.0</td>\n      <td>2621.0</td>\n      <td>14018.0</td>\n      <td>19028.433281</td>\n    </tr>\n    <tr>\n      <th>2006-12-19</th>\n      <td>1666.194</td>\n      <td>150.942</td>\n      <td>348479.01</td>\n      <td>7094.0</td>\n      <td>839.0</td>\n      <td>7602.0</td>\n      <td>6197.0</td>\n      <td>13131.900043</td>\n    </tr>\n    <tr>\n      <th>2006-12-20</th>\n      <td>2225.748</td>\n      <td>160.998</td>\n      <td>348923.61</td>\n      <td>9313.0</td>\n      <td>0.0</td>\n      <td>2648.0</td>\n      <td>14063.0</td>\n      <td>20384.800011</td>\n    </tr>\n    <tr>\n      <th>2006-12-21</th>\n      <td>1723.288</td>\n      <td>144.434</td>\n      <td>347096.41</td>\n      <td>7266.4</td>\n      <td>1765.0</td>\n      <td>2692.0</td>\n      <td>10456.0</td>\n      <td>13808.466697</td>\n    </tr>\n    <tr>\n      <th>2006-12-22</th>\n      <td>2341.338</td>\n      <td>186.906</td>\n      <td>347305.75</td>\n      <td>9897.0</td>\n      <td>3151.0</td>\n      <td>350.0</td>\n      <td>11131.0</td>\n      <td>24390.300043</td>\n    </tr>\n    <tr>\n      <th>2006-12-23</th>\n      <td>4773.386</td>\n      <td>221.470</td>\n      <td>345795.95</td>\n      <td>20200.4</td>\n      <td>2669.0</td>\n      <td>425.0</td>\n      <td>14726.0</td>\n      <td>61736.433386</td>\n    </tr>\n    <tr>\n      <th>2006-12-24</th>\n      <td>2550.012</td>\n      <td>149.900</td>\n      <td>348029.91</td>\n      <td>11002.2</td>\n      <td>1703.0</td>\n      <td>5082.0</td>\n      <td>6891.0</td>\n      <td>28824.199967</td>\n    </tr>\n    <tr>\n      <th>2006-12-25</th>\n      <td>2743.120</td>\n      <td>240.280</td>\n      <td>350495.90</td>\n      <td>11450.2</td>\n      <td>6620.0</td>\n      <td>1962.0</td>\n      <td>5795.0</td>\n      <td>31341.666629</td>\n    </tr>\n    <tr>\n      <th>2006-12-26</th>\n      <td>3934.110</td>\n      <td>165.102</td>\n      <td>347940.63</td>\n      <td>16341.0</td>\n      <td>1086.0</td>\n      <td>2533.0</td>\n      <td>14979.0</td>\n      <td>46970.500071</td>\n    </tr>\n    <tr>\n      <th>2006-12-27</th>\n      <td>1528.760</td>\n      <td>178.902</td>\n      <td>351025.00</td>\n      <td>6505.2</td>\n      <td>0.0</td>\n      <td>314.0</td>\n      <td>6976.0</td>\n      <td>18189.333302</td>\n    </tr>\n    <tr>\n      <th>2006-12-28</th>\n      <td>2072.638</td>\n      <td>208.876</td>\n      <td>350306.40</td>\n      <td>8764.2</td>\n      <td>2207.0</td>\n      <td>4419.0</td>\n      <td>9176.0</td>\n      <td>18741.966606</td>\n    </tr>\n    <tr>\n      <th>2006-12-29</th>\n      <td>3174.392</td>\n      <td>196.394</td>\n      <td>346854.68</td>\n      <td>13350.8</td>\n      <td>1252.0</td>\n      <td>5162.0</td>\n      <td>11329.0</td>\n      <td>35163.533293</td>\n    </tr>\n    <tr>\n      <th>2006-12-30</th>\n      <td>2796.108</td>\n      <td>312.142</td>\n      <td>346377.15</td>\n      <td>11952.6</td>\n      <td>3072.0</td>\n      <td>7893.0</td>\n      <td>12516.0</td>\n      <td>23120.800045</td>\n    </tr>\n    <tr>\n      <th>2006-12-31</th>\n      <td>3494.196</td>\n      <td>150.852</td>\n      <td>345451.07</td>\n      <td>14687.4</td>\n      <td>0.0</td>\n      <td>347.0</td>\n      <td>6502.0</td>\n      <td>51387.600002</td>\n    </tr>\n    <tr>\n      <th>2007-01-01</th>\n      <td>2749.004</td>\n      <td>148.166</td>\n      <td>345785.73</td>\n      <td>11400.4</td>\n      <td>0.0</td>\n      <td>352.0</td>\n      <td>5880.0</td>\n      <td>39584.733275</td>\n    </tr>\n    <tr>\n      <th>2007-01-02</th>\n      <td>1269.236</td>\n      <td>190.342</td>\n      <td>348399.04</td>\n      <td>5348.2</td>\n      <td>0.0</td>\n      <td>348.0</td>\n      <td>6562.0</td>\n      <td>14243.933346</td>\n    </tr>\n    <tr>\n      <th>2007-01-03</th>\n      <td>1014.054</td>\n      <td>196.728</td>\n      <td>350722.21</td>\n      <td>4340.2</td>\n      <td>0.0</td>\n      <td>344.0</td>\n      <td>4765.0</td>\n      <td>11791.900019</td>\n    </tr>\n    <tr>\n      <th>2007-01-04</th>\n      <td>3259.412</td>\n      <td>202.302</td>\n      <td>345240.43</td>\n      <td>13648.6</td>\n      <td>1051.0</td>\n      <td>7597.0</td>\n      <td>10896.0</td>\n      <td>34779.533289</td>\n    </tr>\n  </tbody>\n</table>\n</div>"
     },
     "metadata": {},
     "execution_count": 32
    }
   ],
   "source": [
    "dataset.head(20)"
   ]
  },
  {
   "source": [
    "## Modelo de varias variables"
   ],
   "cell_type": "markdown",
   "metadata": {}
  },
  {
   "cell_type": "code",
   "execution_count": 16,
   "metadata": {},
   "outputs": [],
   "source": [
    "#to_supervised\n",
    "n_input=14\n",
    "n_out=7\n",
    "data = train.reshape((train.shape[0]*train.shape[1], train.shape[2]))\n",
    "Xm, ym = list(), list()\n",
    "in_start = 0\n",
    "# step over the entire history one time step at a time\n",
    "for _ in range(len(data)):\n",
    "    # define the end of the input sequence\n",
    "    in_end = in_start + n_input\n",
    "    out_end = in_end + n_out\n",
    "    # ensure we have enough data for this instance\n",
    "    if out_end < len(data):\n",
    "        # x_input = data[in_start:in_end, 0]\n",
    "        # x_input = x_input.reshape((len(x_input), 1))\n",
    "        Xm.append(data[in_start:in_end, :])\n",
    "        ym.append(data[in_end:out_end, 0])\n",
    "    # move along one time step\n",
    "    in_start += 1\n",
    "train_xm, train_ym = array(Xm), array(ym)"
   ]
  },
  {
   "cell_type": "code",
   "execution_count": 17,
   "metadata": {},
   "outputs": [
    {
     "output_type": "execute_result",
     "data": {
      "text/plain": [
       "array([[3.39046000e+03, 2.26006000e+02, 3.45725320e+05, 1.43986000e+04,\n",
       "        2.03300000e+03, 4.18700000e+03, 1.33410000e+04, 3.69466667e+04],\n",
       "       [2.20382600e+03, 1.61792000e+02, 3.47373640e+05, 9.24720000e+03,\n",
       "        1.06300000e+03, 2.62100000e+03, 1.40180000e+04, 1.90284333e+04],\n",
       "       [1.66619400e+03, 1.50942000e+02, 3.48479010e+05, 7.09400000e+03,\n",
       "        8.39000000e+02, 7.60200000e+03, 6.19700000e+03, 1.31319000e+04],\n",
       "       [2.22574800e+03, 1.60998000e+02, 3.48923610e+05, 9.31300000e+03,\n",
       "        0.00000000e+00, 2.64800000e+03, 1.40630000e+04, 2.03848000e+04],\n",
       "       [1.72328800e+03, 1.44434000e+02, 3.47096410e+05, 7.26640000e+03,\n",
       "        1.76500000e+03, 2.69200000e+03, 1.04560000e+04, 1.38084667e+04],\n",
       "       [2.34133800e+03, 1.86906000e+02, 3.47305750e+05, 9.89700000e+03,\n",
       "        3.15100000e+03, 3.50000000e+02, 1.11310000e+04, 2.43903000e+04],\n",
       "       [4.77338600e+03, 2.21470000e+02, 3.45795950e+05, 2.02004000e+04,\n",
       "        2.66900000e+03, 4.25000000e+02, 1.47260000e+04, 6.17364334e+04],\n",
       "       [2.55001200e+03, 1.49900000e+02, 3.48029910e+05, 1.10022000e+04,\n",
       "        1.70300000e+03, 5.08200000e+03, 6.89100000e+03, 2.88242000e+04],\n",
       "       [2.74312000e+03, 2.40280000e+02, 3.50495900e+05, 1.14502000e+04,\n",
       "        6.62000000e+03, 1.96200000e+03, 5.79500000e+03, 3.13416666e+04],\n",
       "       [3.93411000e+03, 1.65102000e+02, 3.47940630e+05, 1.63410000e+04,\n",
       "        1.08600000e+03, 2.53300000e+03, 1.49790000e+04, 4.69705001e+04],\n",
       "       [1.52876000e+03, 1.78902000e+02, 3.51025000e+05, 6.50520000e+03,\n",
       "        0.00000000e+00, 3.14000000e+02, 6.97600000e+03, 1.81893333e+04],\n",
       "       [2.07263800e+03, 2.08876000e+02, 3.50306400e+05, 8.76420000e+03,\n",
       "        2.20700000e+03, 4.41900000e+03, 9.17600000e+03, 1.87419666e+04],\n",
       "       [3.17439200e+03, 1.96394000e+02, 3.46854680e+05, 1.33508000e+04,\n",
       "        1.25200000e+03, 5.16200000e+03, 1.13290000e+04, 3.51635333e+04],\n",
       "       [2.79610800e+03, 3.12142000e+02, 3.46377150e+05, 1.19526000e+04,\n",
       "        3.07200000e+03, 7.89300000e+03, 1.25160000e+04, 2.31208000e+04]])"
      ]
     },
     "metadata": {},
     "execution_count": 17
    }
   ],
   "source": [
    "train_xm[0]"
   ]
  },
  {
   "cell_type": "code",
   "execution_count": 22,
   "metadata": {},
   "outputs": [
    {
     "output_type": "execute_result",
     "data": {
      "text/plain": [
       "            Global_active_power  Global_reactive_power    Voltage  \\\n",
       "datetime                                                            \n",
       "2006-12-16             1209.176                 34.922   93552.53   \n",
       "2006-12-17             3390.460                226.006  345725.32   \n",
       "2006-12-18             2203.826                161.792  347373.64   \n",
       "2006-12-19             1666.194                150.942  348479.01   \n",
       "2006-12-20             2225.748                160.998  348923.61   \n",
       "2006-12-21             1723.288                144.434  347096.41   \n",
       "2006-12-22             2341.338                186.906  347305.75   \n",
       "2006-12-23             4773.386                221.470  345795.95   \n",
       "2006-12-24             2550.012                149.900  348029.91   \n",
       "2006-12-25             2743.120                240.280  350495.90   \n",
       "2006-12-26             3934.110                165.102  347940.63   \n",
       "2006-12-27             1528.760                178.902  351025.00   \n",
       "2006-12-28             2072.638                208.876  350306.40   \n",
       "2006-12-29             3174.392                196.394  346854.68   \n",
       "2006-12-30             2796.108                312.142  346377.15   \n",
       "2006-12-31             3494.196                150.852  345451.07   \n",
       "2007-01-01             2749.004                148.166  345785.73   \n",
       "2007-01-02             1269.236                190.342  348399.04   \n",
       "2007-01-03             1014.054                196.728  350722.21   \n",
       "2007-01-04             3259.412                202.302  345240.43   \n",
       "\n",
       "            Global_intensity  Kitchen  Laundry_room  Electronic_devices  \\\n",
       "datetime                                                                  \n",
       "2006-12-16            5180.8      0.0         546.0              4926.0   \n",
       "2006-12-17           14398.6   2033.0        4187.0             13341.0   \n",
       "2006-12-18            9247.2   1063.0        2621.0             14018.0   \n",
       "2006-12-19            7094.0    839.0        7602.0              6197.0   \n",
       "2006-12-20            9313.0      0.0        2648.0             14063.0   \n",
       "2006-12-21            7266.4   1765.0        2692.0             10456.0   \n",
       "2006-12-22            9897.0   3151.0         350.0             11131.0   \n",
       "2006-12-23           20200.4   2669.0         425.0             14726.0   \n",
       "2006-12-24           11002.2   1703.0        5082.0              6891.0   \n",
       "2006-12-25           11450.2   6620.0        1962.0              5795.0   \n",
       "2006-12-26           16341.0   1086.0        2533.0             14979.0   \n",
       "2006-12-27            6505.2      0.0         314.0              6976.0   \n",
       "2006-12-28            8764.2   2207.0        4419.0              9176.0   \n",
       "2006-12-29           13350.8   1252.0        5162.0             11329.0   \n",
       "2006-12-30           11952.6   3072.0        7893.0             12516.0   \n",
       "2006-12-31           14687.4      0.0         347.0              6502.0   \n",
       "2007-01-01           11400.4      0.0         352.0              5880.0   \n",
       "2007-01-02            5348.2      0.0         348.0              6562.0   \n",
       "2007-01-03            4340.2      0.0         344.0              4765.0   \n",
       "2007-01-04           13648.6   1051.0        7597.0             10896.0   \n",
       "\n",
       "            Residual_Energy  \n",
       "datetime                     \n",
       "2006-12-16     14680.933319  \n",
       "2006-12-17     36946.666732  \n",
       "2006-12-18     19028.433281  \n",
       "2006-12-19     13131.900043  \n",
       "2006-12-20     20384.800011  \n",
       "2006-12-21     13808.466697  \n",
       "2006-12-22     24390.300043  \n",
       "2006-12-23     61736.433386  \n",
       "2006-12-24     28824.199967  \n",
       "2006-12-25     31341.666629  \n",
       "2006-12-26     46970.500071  \n",
       "2006-12-27     18189.333302  \n",
       "2006-12-28     18741.966606  \n",
       "2006-12-29     35163.533293  \n",
       "2006-12-30     23120.800045  \n",
       "2006-12-31     51387.600002  \n",
       "2007-01-01     39584.733275  \n",
       "2007-01-02     14243.933346  \n",
       "2007-01-03     11791.900019  \n",
       "2007-01-04     34779.533289  "
      ],
      "text/html": "<div>\n<style scoped>\n    .dataframe tbody tr th:only-of-type {\n        vertical-align: middle;\n    }\n\n    .dataframe tbody tr th {\n        vertical-align: top;\n    }\n\n    .dataframe thead th {\n        text-align: right;\n    }\n</style>\n<table border=\"1\" class=\"dataframe\">\n  <thead>\n    <tr style=\"text-align: right;\">\n      <th></th>\n      <th>Global_active_power</th>\n      <th>Global_reactive_power</th>\n      <th>Voltage</th>\n      <th>Global_intensity</th>\n      <th>Kitchen</th>\n      <th>Laundry_room</th>\n      <th>Electronic_devices</th>\n      <th>Residual_Energy</th>\n    </tr>\n    <tr>\n      <th>datetime</th>\n      <th></th>\n      <th></th>\n      <th></th>\n      <th></th>\n      <th></th>\n      <th></th>\n      <th></th>\n      <th></th>\n    </tr>\n  </thead>\n  <tbody>\n    <tr>\n      <th>2006-12-16</th>\n      <td>1209.176</td>\n      <td>34.922</td>\n      <td>93552.53</td>\n      <td>5180.8</td>\n      <td>0.0</td>\n      <td>546.0</td>\n      <td>4926.0</td>\n      <td>14680.933319</td>\n    </tr>\n    <tr>\n      <th>2006-12-17</th>\n      <td>3390.460</td>\n      <td>226.006</td>\n      <td>345725.32</td>\n      <td>14398.6</td>\n      <td>2033.0</td>\n      <td>4187.0</td>\n      <td>13341.0</td>\n      <td>36946.666732</td>\n    </tr>\n    <tr>\n      <th>2006-12-18</th>\n      <td>2203.826</td>\n      <td>161.792</td>\n      <td>347373.64</td>\n      <td>9247.2</td>\n      <td>1063.0</td>\n      <td>2621.0</td>\n      <td>14018.0</td>\n      <td>19028.433281</td>\n    </tr>\n    <tr>\n      <th>2006-12-19</th>\n      <td>1666.194</td>\n      <td>150.942</td>\n      <td>348479.01</td>\n      <td>7094.0</td>\n      <td>839.0</td>\n      <td>7602.0</td>\n      <td>6197.0</td>\n      <td>13131.900043</td>\n    </tr>\n    <tr>\n      <th>2006-12-20</th>\n      <td>2225.748</td>\n      <td>160.998</td>\n      <td>348923.61</td>\n      <td>9313.0</td>\n      <td>0.0</td>\n      <td>2648.0</td>\n      <td>14063.0</td>\n      <td>20384.800011</td>\n    </tr>\n    <tr>\n      <th>2006-12-21</th>\n      <td>1723.288</td>\n      <td>144.434</td>\n      <td>347096.41</td>\n      <td>7266.4</td>\n      <td>1765.0</td>\n      <td>2692.0</td>\n      <td>10456.0</td>\n      <td>13808.466697</td>\n    </tr>\n    <tr>\n      <th>2006-12-22</th>\n      <td>2341.338</td>\n      <td>186.906</td>\n      <td>347305.75</td>\n      <td>9897.0</td>\n      <td>3151.0</td>\n      <td>350.0</td>\n      <td>11131.0</td>\n      <td>24390.300043</td>\n    </tr>\n    <tr>\n      <th>2006-12-23</th>\n      <td>4773.386</td>\n      <td>221.470</td>\n      <td>345795.95</td>\n      <td>20200.4</td>\n      <td>2669.0</td>\n      <td>425.0</td>\n      <td>14726.0</td>\n      <td>61736.433386</td>\n    </tr>\n    <tr>\n      <th>2006-12-24</th>\n      <td>2550.012</td>\n      <td>149.900</td>\n      <td>348029.91</td>\n      <td>11002.2</td>\n      <td>1703.0</td>\n      <td>5082.0</td>\n      <td>6891.0</td>\n      <td>28824.199967</td>\n    </tr>\n    <tr>\n      <th>2006-12-25</th>\n      <td>2743.120</td>\n      <td>240.280</td>\n      <td>350495.90</td>\n      <td>11450.2</td>\n      <td>6620.0</td>\n      <td>1962.0</td>\n      <td>5795.0</td>\n      <td>31341.666629</td>\n    </tr>\n    <tr>\n      <th>2006-12-26</th>\n      <td>3934.110</td>\n      <td>165.102</td>\n      <td>347940.63</td>\n      <td>16341.0</td>\n      <td>1086.0</td>\n      <td>2533.0</td>\n      <td>14979.0</td>\n      <td>46970.500071</td>\n    </tr>\n    <tr>\n      <th>2006-12-27</th>\n      <td>1528.760</td>\n      <td>178.902</td>\n      <td>351025.00</td>\n      <td>6505.2</td>\n      <td>0.0</td>\n      <td>314.0</td>\n      <td>6976.0</td>\n      <td>18189.333302</td>\n    </tr>\n    <tr>\n      <th>2006-12-28</th>\n      <td>2072.638</td>\n      <td>208.876</td>\n      <td>350306.40</td>\n      <td>8764.2</td>\n      <td>2207.0</td>\n      <td>4419.0</td>\n      <td>9176.0</td>\n      <td>18741.966606</td>\n    </tr>\n    <tr>\n      <th>2006-12-29</th>\n      <td>3174.392</td>\n      <td>196.394</td>\n      <td>346854.68</td>\n      <td>13350.8</td>\n      <td>1252.0</td>\n      <td>5162.0</td>\n      <td>11329.0</td>\n      <td>35163.533293</td>\n    </tr>\n    <tr>\n      <th>2006-12-30</th>\n      <td>2796.108</td>\n      <td>312.142</td>\n      <td>346377.15</td>\n      <td>11952.6</td>\n      <td>3072.0</td>\n      <td>7893.0</td>\n      <td>12516.0</td>\n      <td>23120.800045</td>\n    </tr>\n    <tr>\n      <th>2006-12-31</th>\n      <td>3494.196</td>\n      <td>150.852</td>\n      <td>345451.07</td>\n      <td>14687.4</td>\n      <td>0.0</td>\n      <td>347.0</td>\n      <td>6502.0</td>\n      <td>51387.600002</td>\n    </tr>\n    <tr>\n      <th>2007-01-01</th>\n      <td>2749.004</td>\n      <td>148.166</td>\n      <td>345785.73</td>\n      <td>11400.4</td>\n      <td>0.0</td>\n      <td>352.0</td>\n      <td>5880.0</td>\n      <td>39584.733275</td>\n    </tr>\n    <tr>\n      <th>2007-01-02</th>\n      <td>1269.236</td>\n      <td>190.342</td>\n      <td>348399.04</td>\n      <td>5348.2</td>\n      <td>0.0</td>\n      <td>348.0</td>\n      <td>6562.0</td>\n      <td>14243.933346</td>\n    </tr>\n    <tr>\n      <th>2007-01-03</th>\n      <td>1014.054</td>\n      <td>196.728</td>\n      <td>350722.21</td>\n      <td>4340.2</td>\n      <td>0.0</td>\n      <td>344.0</td>\n      <td>4765.0</td>\n      <td>11791.900019</td>\n    </tr>\n    <tr>\n      <th>2007-01-04</th>\n      <td>3259.412</td>\n      <td>202.302</td>\n      <td>345240.43</td>\n      <td>13648.6</td>\n      <td>1051.0</td>\n      <td>7597.0</td>\n      <td>10896.0</td>\n      <td>34779.533289</td>\n    </tr>\n  </tbody>\n</table>\n</div>"
     },
     "metadata": {},
     "execution_count": 22
    }
   ],
   "source": [
    "dataset.head(20)"
   ]
  },
  {
   "cell_type": "code",
   "execution_count": 24,
   "metadata": {},
   "outputs": [
    {
     "output_type": "execute_result",
     "data": {
      "text/plain": [
       "1092"
      ]
     },
     "metadata": {},
     "execution_count": 24
    }
   ],
   "source": [
    "train_x"
   ]
  },
  {
   "source": [
    "## Dataset en Minutos"
   ],
   "cell_type": "markdown",
   "metadata": {}
  },
  {
   "cell_type": "code",
   "execution_count": 3,
   "metadata": {},
   "outputs": [],
   "source": [
    "dataset_m = read_csv('household_power_consumption.csv', header=0,\n",
    "infer_datetime_format=True, parse_dates=['datetime'], index_col=['datetime'])\n",
    "# data=dataset.values"
   ]
  },
  {
   "cell_type": "code",
   "execution_count": 6,
   "metadata": {},
   "outputs": [
    {
     "output_type": "execute_result",
     "data": {
      "text/plain": [
       "(2075259, 8)"
      ]
     },
     "metadata": {},
     "execution_count": 6
    }
   ],
   "source": [
    "dataset_m.shape\n"
   ]
  }
 ]
}