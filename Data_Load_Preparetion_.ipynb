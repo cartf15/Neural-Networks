{
  "nbformat": 4,
  "nbformat_minor": 0,
  "metadata": {
    "colab": {
      "name": "Data Load - Preparetion .ipynb",
      "provenance": [],
      "collapsed_sections": [],
      "authorship_tag": "ABX9TyNc+LiPycnpHGq3VbFrk5GC",
      "include_colab_link": true
    },
    "kernelspec": {
      "name": "python3",
      "display_name": "Python 3"
    }
  },
  "cells": [
    {
      "cell_type": "markdown",
      "metadata": {
        "id": "view-in-github",
        "colab_type": "text"
      },
      "source": [
        "<a href=\"https://colab.research.google.com/github/cartf15/TFM-CnnLstm/blob/master/Data_Load_Preparetion_.ipynb\" target=\"_parent\"><img src=\"https://colab.research.google.com/assets/colab-badge.svg\" alt=\"Open In Colab\"/></a>"
      ]
    },
    {
      "cell_type": "code",
      "metadata": {
        "id": "5ZeqRX3rQ6OI",
        "outputId": "78833131-6698-476c-d9b3-e054323b105f",
        "colab": {
          "base_uri": "https://localhost:8080/"
        }
      },
      "source": [
        "ls"
      ],
      "execution_count": 1,
      "outputs": [
        {
          "output_type": "stream",
          "text": [
            "\u001b[0m\u001b[01;34msample_data\u001b[0m/\n"
          ],
          "name": "stdout"
        }
      ]
    },
    {
      "cell_type": "code",
      "metadata": {
        "id": "x-0L7Er9EBML"
      },
      "source": [
        "import pandas as pd\n",
        "import numpy as np"
      ],
      "execution_count": 9,
      "outputs": []
    },
    {
      "cell_type": "code",
      "metadata": {
        "id": "Vp4JZAOGREAB",
        "outputId": "08fe6298-b3a1-44b2-b4a6-89d45e4b6da0",
        "colab": {
          "base_uri": "https://localhost:8080/"
        }
      },
      "source": [
        "# load all data\n",
        "dataset = pd.read_csv('household_power_consumption.txt', sep=';', header=0, low_memory=False,\n",
        "infer_datetime_format=True, parse_dates={'datetime':[0,1]}, index_col=['datetime'])\n",
        "# summarize\n",
        "print(dataset.shape)\n",
        "print(dataset.head())"
      ],
      "execution_count": 5,
      "outputs": [
        {
          "output_type": "stream",
          "text": [
            "(360666, 7)\n",
            "                    Global_active_power  ... Sub_metering_3\n",
            "datetime                                 ...               \n",
            "2006-12-16 17:24:00               4.216  ...           17.0\n",
            "2006-12-16 17:25:00               5.360  ...           16.0\n",
            "2006-12-16 17:26:00               5.374  ...           17.0\n",
            "2006-12-16 17:27:00               5.388  ...           17.0\n",
            "2006-12-16 17:28:00               3.666  ...           17.0\n",
            "\n",
            "[5 rows x 7 columns]\n"
          ],
          "name": "stdout"
        }
      ]
    },
    {
      "cell_type": "code",
      "metadata": {
        "id": "h0rW2vdXEa96"
      },
      "source": [
        "# mark all missing values\n",
        "dataset.replace('?', np.nan , inplace=True)"
      ],
      "execution_count": 11,
      "outputs": []
    },
    {
      "cell_type": "code",
      "metadata": {
        "id": "tLC2hYrvFl38",
        "outputId": "f20854bd-d3c1-4ad7-a1c7-4a8fa3cc6c44",
        "colab": {
          "base_uri": "https://localhost:8080/"
        }
      },
      "source": [
        "dataset.columns"
      ],
      "execution_count": 13,
      "outputs": [
        {
          "output_type": "execute_result",
          "data": {
            "text/plain": [
              "Index(['Global_active_power', 'Global_reactive_power', 'Voltage',\n",
              "       'Global_intensity', 'Sub_metering_1', 'Sub_metering_2',\n",
              "       'Sub_metering_3'],\n",
              "      dtype='object')"
            ]
          },
          "metadata": {
            "tags": []
          },
          "execution_count": 13
        }
      ]
    },
    {
      "cell_type": "code",
      "metadata": {
        "id": "_si-P9H2GF5A"
      },
      "source": [
        "# add a column for for the remainder of sub metering\n",
        "values = dataset.values.astype('float32')\n",
        "dataset['sub_metering_4'] = (values[:,0] * 1000 / 60) - (values[:,4] + values[:,5] +\n",
        "values[:,6])\n"
      ],
      "execution_count": 14,
      "outputs": []
    },
    {
      "cell_type": "code",
      "metadata": {
        "id": "9tymDr2MGV35"
      },
      "source": [
        "dataset.to_csv('household_power_consumption.csv')"
      ],
      "execution_count": 15,
      "outputs": []
    }
  ]
}