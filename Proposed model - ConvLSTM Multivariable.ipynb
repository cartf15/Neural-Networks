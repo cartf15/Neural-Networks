{
 "metadata": {
  "language_info": {
   "codemirror_mode": {
    "name": "ipython",
    "version": 3
   },
   "file_extension": ".py",
   "mimetype": "text/x-python",
   "name": "python",
   "nbconvert_exporter": "python",
   "pygments_lexer": "ipython3",
   "version": "3.7.3-final"
  },
  "orig_nbformat": 2,
  "kernelspec": {
   "name": "myenv",
   "display_name": "myenv",
   "language": "python"
  }
 },
 "nbformat": 4,
 "nbformat_minor": 2,
 "cells": [
  {
   "cell_type": "code",
   "execution_count": 1,
   "metadata": {},
   "outputs": [],
   "source": [
    "from math import sqrt\n",
    "from numpy import split\n",
    "from numpy import array\n",
    "from pandas import read_csv\n",
    "from sklearn.metrics import mean_squared_error\n",
    "from matplotlib import pyplot\n",
    "from keras.models import Sequential\n",
    "from keras.layers import Dense\n",
    "from keras.layers import Flatten\n",
    "from keras.layers import LSTM\n",
    "from keras.layers import RepeatVector , BatchNormalization ,MaxPooling3D\n",
    "from keras.layers import TimeDistributed\n",
    "from keras.layers import ConvLSTM2D\n",
    "from keras.utils.vis_utils import plot_model\n",
    "from tensorflow import TensorShape, Variable, int32"
   ]
  },
  {
   "cell_type": "code",
   "execution_count": 2,
   "metadata": {},
   "outputs": [],
   "source": [
    "# split a univariate dataset into train/test sets\n",
    "def split_dataset(data):\n",
    "    # split into standard weeks\n",
    "    train, test = data[1:-328], data[-328:-6]\n",
    "    # restructure into windows of weekly data\n",
    "    train = array(split(train, len(train)/7))\n",
    "    test = array(split(test, len(test)/7))\n",
    "    return train, test"
   ]
  },
  {
   "cell_type": "code",
   "execution_count": 3,
   "metadata": {},
   "outputs": [],
   "source": [
    "def evaluate_forecasts(actual, predicted):\n",
    "    scores = list()\n",
    "    # calculate an RMSE score for each day\n",
    "    for i in range(actual.shape[1]):\n",
    "        # calculate mse\n",
    "        mse = mean_squared_error(actual[:, i], predicted[:, i])\n",
    "        # calculate rmse\n",
    "        rmse = sqrt(mse)\n",
    "        # store\n",
    "        scores.append(rmse)\n",
    "        # calculate overall RMSE\n",
    "    s = 0\n",
    "    for row in range(actual.shape[0]):\n",
    "        for col in range(actual.shape[1]):\n",
    "            s += (actual[row, col] - predicted[row, col])**2\n",
    "    score = sqrt(s / (actual.shape[0] * actual.shape[1]))\n",
    "    return score, scores"
   ]
  },
  {
   "cell_type": "code",
   "execution_count": 4,
   "metadata": {},
   "outputs": [],
   "source": [
    "# summarize scores\n",
    "def summarize_scores(name, score, scores):\n",
    "    s_scores = ', '.join(['%.1f' % s for s in scores])\n",
    "    print('%s: [%.3f] %s' % (name, score, s_scores))"
   ]
  },
  {
   "cell_type": "code",
   "execution_count": 5,
   "metadata": {},
   "outputs": [],
   "source": [
    "# convert history into inputs and outputs\n",
    "def to_supervised(train, n_input, n_out=7):\n",
    "    # flatten data\n",
    "    data = train.reshape((train.shape[0]*train.shape[1], train.shape[2]))\n",
    "    X, y = list(), list()\n",
    "    in_start = 0\n",
    "    # step over the entire history one time step at a time\n",
    "    for _ in range(len(data)):\n",
    "        # define the end of the input sequence\n",
    "        in_end = in_start + n_input\n",
    "        out_end = in_end + n_out\n",
    "        # ensure we have enough data for this instance\n",
    "        if out_end < len(data):\n",
    "            # x_input = data[in_start:in_end, 0]\n",
    "            # x_input = x_input.reshape((len(x_input), 1))\n",
    "            X.append(data[in_start:in_end, :])\n",
    "            y.append(data[in_end:out_end, 0])\n",
    "        # move along one time step\n",
    "        in_start += 1\n",
    "    return array(X), array(y)"
   ]
  },
  {
   "cell_type": "code",
   "execution_count": 9,
   "metadata": {},
   "outputs": [],
   "source": [
    "# train the model\n",
    "def build_model(train, n_steps, n_length, n_input):\n",
    "    # prepare data\n",
    "    train_x, train_y = to_supervised(train, n_input)\n",
    "    # define parameters\n",
    "    verbose, epochs, batch_size = 0, 20, 16\n",
    "    n_features, n_outputs = train_x.shape[4], train_y.shape[1]\n",
    "    # reshape into subsequences [samples, timesteps, rows, cols, channels]\n",
    "    train_x = train_x.reshape((train_x.shape[0], n_steps, 1, n_length, n_features))\n",
    "    # reshape output into [samples, timesteps, features]\n",
    "    train_y = train_y.reshape((train_y.shape[0], train_y.shape[1], 1))\n",
    "    \n",
    "    \n",
    "    # define model 1 \n",
    "    model = Sequential()\n",
    "    model.add(ConvLSTM2D(filters=64, kernel_size=(1,3), activation='relu',\n",
    "    input_shape=(n_steps, 1, n_length, n_features)))\n",
    "    model.add(Flatten())\n",
    "    model.add(RepeatVector(n_outputs))\n",
    "    model.add(LSTM(200, activation='relu', return_sequences=True))\n",
    "    model.add(TimeDistributed(Dense(100, activation='relu')))\n",
    "    model.add(TimeDistributed(Dense(1)))\n",
    "    model.compile(loss='mse', optimizer='adam')\n",
    "\n",
    "    # define model 2 \n",
    "    # model = Sequential()\n",
    "    # model.add(ConvLSTM2D(filters=64, kernel_size=(1,3), activation='tanh',input_shape=(n_steps, 1, n_length, n_features)))\n",
    "    # model.add(BatchNormalization())\n",
    "    # model.add(MaxPooling3D(pool_size=(1,2,2)))\n",
    "    # # model.add(ConvLSTM2D(filters=32, kernel_size=(1,2), activation='tanh'))\n",
    "    # # model.add(BatchNormalization())\n",
    "    # model.add(Flatten())\n",
    "    # model.add(RepeatVector(n_outputs))\n",
    "    # model.add(LSTM(200, activation='relu', return_sequences=True))\n",
    "    # model.add(TimeDistributed(Dense(100, activation='relu')))\n",
    "    # model.add(TimeDistributed(Dense(1)))\n",
    "    # model.compile(loss='mse', optimizer='adam')\n",
    "    \n",
    "    \n",
    "\n",
    "\n",
    "    \n",
    "    plot_model(model, to_file='model_ConvLSTM_Multivatiable_plot.png', show_shapes=True, show_layer_names=True)\n",
    "\n",
    "    # fit network\n",
    "    model.fit(train_x, train_y, epochs=epochs, batch_size=batch_size, verbose=verbose)\n",
    "    return model"
   ]
  },
  {
   "cell_type": "code",
   "execution_count": 11,
   "metadata": {},
   "outputs": [],
   "source": [
    "# make a forecast\n",
    "def forecast(model, history, n_steps, n_length, n_input):\n",
    "    # flatten data\n",
    "    data = array(history)\n",
    "    data = data.reshape((data.shape[0]*data.shape[1], data.shape[2]))\n",
    "    # retrieve last observations for input data\n",
    "    input_x = data[-n_input:, 0]\n",
    "    # reshape into [samples, timesteps, rows, cols, channels]\n",
    "    input_x = input_x.reshape (  Variable(TensorShape(None),dtype=int32) , Variable(TensorShape(None),dtype=int32) ,1, 7, 8) #(None, None, 1, 7, 8) instead of (1, n_steps, 1, n_length, 1)  -- (  Variable(TensorShape(None),dtype=int32)  , Variable(TensorShape(None),dtype=int32)   , 1, n_length, 1)\n",
    "    # forecast the next week\n",
    "    yhat = model.predict(input_x, verbose=0)\n",
    "    # we only want the vector forecast\n",
    "    yhat = yhat[0]\n",
    "    return yhat"
   ]
  },
  {
   "cell_type": "code",
   "execution_count": 12,
   "metadata": {},
   "outputs": [],
   "source": [
    "# evaluate a single model\n",
    "def evaluate_model(train, test, n_steps, n_length, n_input):\n",
    "    # fit model\n",
    "    model = build_model(train, n_steps, n_length, n_input)\n",
    "    model.summary()\n",
    "    # history is a list of weekly data\n",
    "    history = [x for x in train]\n",
    "    # walk-forward validation over each week\n",
    "    predictions = list()\n",
    "    for i in range(len(test)):\n",
    "        # predict the week\n",
    "        yhat_sequence = forecast(model, history, n_steps, n_length, n_input)\n",
    "        # store the predictions\n",
    "        predictions.append(yhat_sequence)\n",
    "        # get real observation and add to history for predicting the next week\n",
    "        history.append(test[i, :])\n",
    "    # evaluate predictions days for each week\n",
    "    predictions = array(predictions)\n",
    "    score, scores = evaluate_forecasts(test[:, :, 0], predictions)\n",
    "    return score, scores"
   ]
  },
  {
   "cell_type": "code",
   "execution_count": 13,
   "metadata": {},
   "outputs": [
    {
     "output_type": "error",
     "ename": "IndexError",
     "evalue": "tuple index out of range",
     "traceback": [
      "\u001b[1;31m---------------------------------------------------------------------------\u001b[0m",
      "\u001b[1;31mIndexError\u001b[0m                                Traceback (most recent call last)",
      "\u001b[1;32m<ipython-input-13-4b4338903268>\u001b[0m in \u001b[0;36m<module>\u001b[1;34m\u001b[0m\n\u001b[0;32m      8\u001b[0m \u001b[1;31m# define the total days to use as input\u001b[0m\u001b[1;33m\u001b[0m\u001b[1;33m\u001b[0m\u001b[1;33m\u001b[0m\u001b[0m\n\u001b[0;32m      9\u001b[0m \u001b[0mn_input\u001b[0m \u001b[1;33m=\u001b[0m \u001b[0mn_length\u001b[0m \u001b[1;33m*\u001b[0m \u001b[0mn_steps\u001b[0m\u001b[1;33m\u001b[0m\u001b[1;33m\u001b[0m\u001b[0m\n\u001b[1;32m---> 10\u001b[1;33m \u001b[0mscore\u001b[0m\u001b[1;33m,\u001b[0m \u001b[0mscores\u001b[0m \u001b[1;33m=\u001b[0m \u001b[0mevaluate_model\u001b[0m\u001b[1;33m(\u001b[0m\u001b[0mtrain\u001b[0m\u001b[1;33m,\u001b[0m \u001b[0mtest\u001b[0m\u001b[1;33m,\u001b[0m \u001b[0mn_steps\u001b[0m\u001b[1;33m,\u001b[0m \u001b[0mn_length\u001b[0m\u001b[1;33m,\u001b[0m \u001b[0mn_input\u001b[0m\u001b[1;33m)\u001b[0m\u001b[1;33m\u001b[0m\u001b[1;33m\u001b[0m\u001b[0m\n\u001b[0m\u001b[0;32m     11\u001b[0m \u001b[1;31m# summarize scores\u001b[0m\u001b[1;33m\u001b[0m\u001b[1;33m\u001b[0m\u001b[1;33m\u001b[0m\u001b[0m\n\u001b[0;32m     12\u001b[0m \u001b[0msummarize_scores\u001b[0m\u001b[1;33m(\u001b[0m\u001b[1;34m'lstm'\u001b[0m\u001b[1;33m,\u001b[0m \u001b[0mscore\u001b[0m\u001b[1;33m,\u001b[0m \u001b[0mscores\u001b[0m\u001b[1;33m)\u001b[0m\u001b[1;33m\u001b[0m\u001b[1;33m\u001b[0m\u001b[0m\n",
      "\u001b[1;32m<ipython-input-12-4c9d60e32915>\u001b[0m in \u001b[0;36mevaluate_model\u001b[1;34m(train, test, n_steps, n_length, n_input)\u001b[0m\n\u001b[0;32m      2\u001b[0m \u001b[1;32mdef\u001b[0m \u001b[0mevaluate_model\u001b[0m\u001b[1;33m(\u001b[0m\u001b[0mtrain\u001b[0m\u001b[1;33m,\u001b[0m \u001b[0mtest\u001b[0m\u001b[1;33m,\u001b[0m \u001b[0mn_steps\u001b[0m\u001b[1;33m,\u001b[0m \u001b[0mn_length\u001b[0m\u001b[1;33m,\u001b[0m \u001b[0mn_input\u001b[0m\u001b[1;33m)\u001b[0m\u001b[1;33m:\u001b[0m\u001b[1;33m\u001b[0m\u001b[1;33m\u001b[0m\u001b[0m\n\u001b[0;32m      3\u001b[0m     \u001b[1;31m# fit model\u001b[0m\u001b[1;33m\u001b[0m\u001b[1;33m\u001b[0m\u001b[1;33m\u001b[0m\u001b[0m\n\u001b[1;32m----> 4\u001b[1;33m     \u001b[0mmodel\u001b[0m \u001b[1;33m=\u001b[0m \u001b[0mbuild_model\u001b[0m\u001b[1;33m(\u001b[0m\u001b[0mtrain\u001b[0m\u001b[1;33m,\u001b[0m \u001b[0mn_steps\u001b[0m\u001b[1;33m,\u001b[0m \u001b[0mn_length\u001b[0m\u001b[1;33m,\u001b[0m \u001b[0mn_input\u001b[0m\u001b[1;33m)\u001b[0m\u001b[1;33m\u001b[0m\u001b[1;33m\u001b[0m\u001b[0m\n\u001b[0m\u001b[0;32m      5\u001b[0m     \u001b[0mmodel\u001b[0m\u001b[1;33m.\u001b[0m\u001b[0msummary\u001b[0m\u001b[1;33m(\u001b[0m\u001b[1;33m)\u001b[0m\u001b[1;33m\u001b[0m\u001b[1;33m\u001b[0m\u001b[0m\n\u001b[0;32m      6\u001b[0m     \u001b[1;31m# history is a list of weekly data\u001b[0m\u001b[1;33m\u001b[0m\u001b[1;33m\u001b[0m\u001b[1;33m\u001b[0m\u001b[0m\n",
      "\u001b[1;32m<ipython-input-9-0b93abca52f3>\u001b[0m in \u001b[0;36mbuild_model\u001b[1;34m(train, n_steps, n_length, n_input)\u001b[0m\n\u001b[0;32m      5\u001b[0m     \u001b[1;31m# define parameters\u001b[0m\u001b[1;33m\u001b[0m\u001b[1;33m\u001b[0m\u001b[1;33m\u001b[0m\u001b[0m\n\u001b[0;32m      6\u001b[0m     \u001b[0mverbose\u001b[0m\u001b[1;33m,\u001b[0m \u001b[0mepochs\u001b[0m\u001b[1;33m,\u001b[0m \u001b[0mbatch_size\u001b[0m \u001b[1;33m=\u001b[0m \u001b[1;36m0\u001b[0m\u001b[1;33m,\u001b[0m \u001b[1;36m20\u001b[0m\u001b[1;33m,\u001b[0m \u001b[1;36m16\u001b[0m\u001b[1;33m\u001b[0m\u001b[1;33m\u001b[0m\u001b[0m\n\u001b[1;32m----> 7\u001b[1;33m     \u001b[0mn_features\u001b[0m\u001b[1;33m,\u001b[0m \u001b[0mn_outputs\u001b[0m \u001b[1;33m=\u001b[0m \u001b[0mtrain_x\u001b[0m\u001b[1;33m.\u001b[0m\u001b[0mshape\u001b[0m\u001b[1;33m[\u001b[0m\u001b[1;36m4\u001b[0m\u001b[1;33m]\u001b[0m\u001b[1;33m,\u001b[0m \u001b[0mtrain_y\u001b[0m\u001b[1;33m.\u001b[0m\u001b[0mshape\u001b[0m\u001b[1;33m[\u001b[0m\u001b[1;36m1\u001b[0m\u001b[1;33m]\u001b[0m\u001b[1;33m\u001b[0m\u001b[1;33m\u001b[0m\u001b[0m\n\u001b[0m\u001b[0;32m      8\u001b[0m     \u001b[1;31m# reshape into subsequences [samples, timesteps, rows, cols, channels]\u001b[0m\u001b[1;33m\u001b[0m\u001b[1;33m\u001b[0m\u001b[1;33m\u001b[0m\u001b[0m\n\u001b[0;32m      9\u001b[0m     \u001b[0mtrain_x\u001b[0m \u001b[1;33m=\u001b[0m \u001b[0mtrain_x\u001b[0m\u001b[1;33m.\u001b[0m\u001b[0mreshape\u001b[0m\u001b[1;33m(\u001b[0m\u001b[1;33m(\u001b[0m\u001b[0mtrain_x\u001b[0m\u001b[1;33m.\u001b[0m\u001b[0mshape\u001b[0m\u001b[1;33m[\u001b[0m\u001b[1;36m0\u001b[0m\u001b[1;33m]\u001b[0m\u001b[1;33m,\u001b[0m \u001b[0mn_steps\u001b[0m\u001b[1;33m,\u001b[0m \u001b[1;36m1\u001b[0m\u001b[1;33m,\u001b[0m \u001b[0mn_length\u001b[0m\u001b[1;33m,\u001b[0m \u001b[0mn_features\u001b[0m\u001b[1;33m)\u001b[0m\u001b[1;33m)\u001b[0m\u001b[1;33m\u001b[0m\u001b[1;33m\u001b[0m\u001b[0m\n",
      "\u001b[1;31mIndexError\u001b[0m: tuple index out of range"
     ]
    }
   ],
   "source": [
    "# load the new file\n",
    "dataset = read_csv('household_power_consumption_days.csv', header=0,\n",
    "infer_datetime_format=True, parse_dates=['datetime'], index_col=['datetime'])\n",
    "# split into train and test\n",
    "train, test = split_dataset(dataset.values)\n",
    "# define the number of subsequences and the length of subsequences\n",
    "n_steps, n_length = 2, 7\n",
    "# define the total days to use as input\n",
    "n_input = n_length * n_steps\n",
    "score, scores = evaluate_model(train, test, n_steps, n_length, n_input)\n",
    "# summarize scores\n",
    "summarize_scores('lstm', score, scores)\n",
    "# plot scores\n",
    "days = ['sun', 'mon', 'tue', 'wed', 'thr', 'fri', 'sat']\n",
    "pyplot.plot(days, scores, marker='o', label='lstm')\n",
    "pyplot.show()"
   ]
  },
  {
   "cell_type": "code",
   "execution_count": 14,
   "metadata": {},
   "outputs": [],
   "source": [
    "train_x, train_y = to_supervised(train, n_input)\n",
    "# define parameters\n",
    "verbose, epochs, batch_size = 0, 20, 16\n",
    "n_features, n_outputs = train_x.shape[2], train_y.shape[1]\n",
    "# reshape into subsequences [samples, timesteps, rows, cols, channels]\n",
    "train_x = train_x.reshape((train_x.shape[0], n_steps, 1, n_length, n_features))\n",
    "# reshape output into [samples, timesteps, features]\n",
    "train_y = train_y.reshape((train_y.shape[0], train_y.shape[1], 1))"
   ]
  },
  {
   "cell_type": "code",
   "execution_count": 44,
   "metadata": {},
   "outputs": [
    {
     "output_type": "execute_result",
     "data": {
      "text/plain": [
       "array([[3.39046000e+03, 2.26006000e+02, 3.45725320e+05, 1.43986000e+04,\n",
       "        2.03300000e+03, 4.18700000e+03, 1.33410000e+04, 3.69466667e+04],\n",
       "       [2.20382600e+03, 1.61792000e+02, 3.47373640e+05, 9.24720000e+03,\n",
       "        1.06300000e+03, 2.62100000e+03, 1.40180000e+04, 1.90284333e+04],\n",
       "       [1.66619400e+03, 1.50942000e+02, 3.48479010e+05, 7.09400000e+03,\n",
       "        8.39000000e+02, 7.60200000e+03, 6.19700000e+03, 1.31319000e+04],\n",
       "       [2.22574800e+03, 1.60998000e+02, 3.48923610e+05, 9.31300000e+03,\n",
       "        0.00000000e+00, 2.64800000e+03, 1.40630000e+04, 2.03848000e+04],\n",
       "       [1.72328800e+03, 1.44434000e+02, 3.47096410e+05, 7.26640000e+03,\n",
       "        1.76500000e+03, 2.69200000e+03, 1.04560000e+04, 1.38084667e+04],\n",
       "       [2.34133800e+03, 1.86906000e+02, 3.47305750e+05, 9.89700000e+03,\n",
       "        3.15100000e+03, 3.50000000e+02, 1.11310000e+04, 2.43903000e+04],\n",
       "       [4.77338600e+03, 2.21470000e+02, 3.45795950e+05, 2.02004000e+04,\n",
       "        2.66900000e+03, 4.25000000e+02, 1.47260000e+04, 6.17364334e+04]])"
      ]
     },
     "metadata": {},
     "execution_count": 44
    }
   ],
   "source": [
    "train[0]"
   ]
  },
  {
   "cell_type": "code",
   "execution_count": 15,
   "metadata": {},
   "outputs": [
    {
     "output_type": "execute_result",
     "data": {
      "text/plain": [
       "(46, 7, 8)"
      ]
     },
     "metadata": {},
     "execution_count": 15
    }
   ],
   "source": [
    "test.shape"
   ]
  },
  {
   "cell_type": "code",
   "execution_count": 78,
   "metadata": {},
   "outputs": [
    {
     "output_type": "execute_result",
     "data": {
      "text/plain": [
       "array([[[[3.39046000e+03, 2.26006000e+02, 3.45725320e+05,\n",
       "          1.43986000e+04, 2.03300000e+03, 4.18700000e+03,\n",
       "          1.33410000e+04, 3.69466667e+04],\n",
       "         [2.20382600e+03, 1.61792000e+02, 3.47373640e+05,\n",
       "          9.24720000e+03, 1.06300000e+03, 2.62100000e+03,\n",
       "          1.40180000e+04, 1.90284333e+04],\n",
       "         [1.66619400e+03, 1.50942000e+02, 3.48479010e+05,\n",
       "          7.09400000e+03, 8.39000000e+02, 7.60200000e+03,\n",
       "          6.19700000e+03, 1.31319000e+04],\n",
       "         [2.22574800e+03, 1.60998000e+02, 3.48923610e+05,\n",
       "          9.31300000e+03, 0.00000000e+00, 2.64800000e+03,\n",
       "          1.40630000e+04, 2.03848000e+04],\n",
       "         [1.72328800e+03, 1.44434000e+02, 3.47096410e+05,\n",
       "          7.26640000e+03, 1.76500000e+03, 2.69200000e+03,\n",
       "          1.04560000e+04, 1.38084667e+04],\n",
       "         [2.34133800e+03, 1.86906000e+02, 3.47305750e+05,\n",
       "          9.89700000e+03, 3.15100000e+03, 3.50000000e+02,\n",
       "          1.11310000e+04, 2.43903000e+04],\n",
       "         [4.77338600e+03, 2.21470000e+02, 3.45795950e+05,\n",
       "          2.02004000e+04, 2.66900000e+03, 4.25000000e+02,\n",
       "          1.47260000e+04, 6.17364334e+04]]],\n",
       "\n",
       "\n",
       "       [[[2.55001200e+03, 1.49900000e+02, 3.48029910e+05,\n",
       "          1.10022000e+04, 1.70300000e+03, 5.08200000e+03,\n",
       "          6.89100000e+03, 2.88242000e+04],\n",
       "         [2.74312000e+03, 2.40280000e+02, 3.50495900e+05,\n",
       "          1.14502000e+04, 6.62000000e+03, 1.96200000e+03,\n",
       "          5.79500000e+03, 3.13416666e+04],\n",
       "         [3.93411000e+03, 1.65102000e+02, 3.47940630e+05,\n",
       "          1.63410000e+04, 1.08600000e+03, 2.53300000e+03,\n",
       "          1.49790000e+04, 4.69705001e+04],\n",
       "         [1.52876000e+03, 1.78902000e+02, 3.51025000e+05,\n",
       "          6.50520000e+03, 0.00000000e+00, 3.14000000e+02,\n",
       "          6.97600000e+03, 1.81893333e+04],\n",
       "         [2.07263800e+03, 2.08876000e+02, 3.50306400e+05,\n",
       "          8.76420000e+03, 2.20700000e+03, 4.41900000e+03,\n",
       "          9.17600000e+03, 1.87419666e+04],\n",
       "         [3.17439200e+03, 1.96394000e+02, 3.46854680e+05,\n",
       "          1.33508000e+04, 1.25200000e+03, 5.16200000e+03,\n",
       "          1.13290000e+04, 3.51635333e+04],\n",
       "         [2.79610800e+03, 3.12142000e+02, 3.46377150e+05,\n",
       "          1.19526000e+04, 3.07200000e+03, 7.89300000e+03,\n",
       "          1.25160000e+04, 2.31208000e+04]]]])"
      ]
     },
     "metadata": {},
     "execution_count": 78
    }
   ],
   "source": [
    "train_x[0]"
   ]
  },
  {
   "cell_type": "code",
   "execution_count": 67,
   "metadata": {},
   "outputs": [
    {
     "output_type": "execute_result",
     "data": {
      "text/plain": [
       "array([[1.68829400e+03, 1.24660000e+02, 3.50126410e+05, 6.95780000e+03,\n",
       "        1.22300000e+03, 3.20000000e+02, 1.32080000e+04, 1.33872334e+04],\n",
       "       [2.09713200e+03, 1.31270000e+02, 3.50563360e+05, 8.70100000e+03,\n",
       "        3.46800000e+03, 3.32000000e+02, 1.60650000e+04, 1.50872000e+04],\n",
       "       [1.79775600e+03, 1.19606000e+02, 3.51005420e+05, 7.41360000e+03,\n",
       "        1.94500000e+03, 3.17000000e+02, 1.28200000e+04, 1.48806000e+04],\n",
       "       [2.05456000e+03, 1.19560000e+02, 3.48979420e+05, 8.55540000e+03,\n",
       "        2.29400000e+03, 6.63600000e+03, 1.01010000e+04, 1.52116667e+04],\n",
       "       [1.76115600e+03, 1.40000000e+02, 3.50767000e+05, 7.25500000e+03,\n",
       "        9.65000000e+02, 3.85000000e+02, 1.48840000e+04, 1.31186000e+04],\n",
       "       [1.95357200e+03, 1.35150000e+02, 3.48058660e+05, 8.14200000e+03,\n",
       "        2.12400000e+03, 3.97000000e+02, 1.45430000e+04, 1.54955333e+04],\n",
       "       [1.98372800e+03, 1.51248000e+02, 3.48176110e+05, 8.27360000e+03,\n",
       "        3.74800000e+03, 3.82000000e+02, 1.44700000e+04, 1.44621334e+04]])"
      ]
     },
     "metadata": {},
     "execution_count": 67
    }
   ],
   "source": [
    "# test[:,:,:].shape\n",
    "test[6,:,:]"
   ]
  },
  {
   "cell_type": "code",
   "execution_count": 102,
   "metadata": {},
   "outputs": [
    {
     "output_type": "error",
     "ename": "AttributeError",
     "evalue": "'numpy.ndarray' object has no attribute 'index'",
     "traceback": [
      "\u001b[1;31m---------------------------------------------------------------------------\u001b[0m",
      "\u001b[1;31mAttributeError\u001b[0m                            Traceback (most recent call last)",
      "\u001b[1;32m<ipython-input-102-7cacdcd9c8e5>\u001b[0m in \u001b[0;36m<module>\u001b[1;34m\u001b[0m\n\u001b[0;32m      2\u001b[0m \u001b[1;32mimport\u001b[0m \u001b[0mnumpy\u001b[0m \u001b[1;32mas\u001b[0m \u001b[0mnp\u001b[0m\u001b[1;33m\u001b[0m\u001b[1;33m\u001b[0m\u001b[0m\n\u001b[0;32m      3\u001b[0m \u001b[1;32mfor\u001b[0m \u001b[0mi\u001b[0m \u001b[1;32min\u001b[0m \u001b[0mrange\u001b[0m\u001b[1;33m(\u001b[0m\u001b[1;36m10\u001b[0m\u001b[1;33m)\u001b[0m \u001b[1;33m:\u001b[0m\u001b[1;33m\u001b[0m\u001b[1;33m\u001b[0m\u001b[0m\n\u001b[1;32m----> 4\u001b[1;33m     \u001b[0mplt\u001b[0m\u001b[1;33m.\u001b[0m\u001b[0mplot\u001b[0m\u001b[1;33m(\u001b[0m\u001b[0mtest\u001b[0m\u001b[1;33m.\u001b[0m\u001b[0mindex\u001b[0m\u001b[1;33m,\u001b[0m\u001b[0mtest\u001b[0m\u001b[1;33m[\u001b[0m\u001b[0mi\u001b[0m\u001b[1;33m,\u001b[0m\u001b[1;33m:\u001b[0m\u001b[1;33m,\u001b[0m\u001b[1;36m0\u001b[0m\u001b[1;33m]\u001b[0m\u001b[1;33m)\u001b[0m\u001b[1;33m\u001b[0m\u001b[1;33m\u001b[0m\u001b[0m\n\u001b[0m",
      "\u001b[1;31mAttributeError\u001b[0m: 'numpy.ndarray' object has no attribute 'index'"
     ]
    }
   ],
   "source": [
    "import matplotlib.pyplot as plt \n",
    "import numpy as np\n",
    "for i in range(10) :\n",
    "    plt.plot(,test[i,:,0])\n"
   ]
  },
  {
   "cell_type": "code",
   "execution_count": 107,
   "metadata": {},
   "outputs": [
    {
     "output_type": "error",
     "ename": "TypeError",
     "evalue": "'(slice(None, None, None), 0, 0)' is an invalid key",
     "traceback": [
      "\u001b[1;31m---------------------------------------------------------------------------\u001b[0m",
      "\u001b[1;31mTypeError\u001b[0m                                 Traceback (most recent call last)",
      "\u001b[1;32m<ipython-input-107-9157abcd26e1>\u001b[0m in \u001b[0;36m<module>\u001b[1;34m\u001b[0m\n\u001b[1;32m----> 1\u001b[1;33m \u001b[0mplt\u001b[0m\u001b[1;33m.\u001b[0m\u001b[0mplot\u001b[0m\u001b[1;33m(\u001b[0m\u001b[0mnp\u001b[0m\u001b[1;33m.\u001b[0m\u001b[0marange\u001b[0m\u001b[1;33m(\u001b[0m\u001b[1;36m0\u001b[0m\u001b[1;33m,\u001b[0m\u001b[1;36m46\u001b[0m\u001b[1;33m)\u001b[0m\u001b[1;33m,\u001b[0m\u001b[0mtest\u001b[0m\u001b[1;33m[\u001b[0m\u001b[1;33m:\u001b[0m\u001b[1;33m,\u001b[0m\u001b[1;36m0\u001b[0m\u001b[1;33m,\u001b[0m\u001b[1;36m0\u001b[0m\u001b[1;33m]\u001b[0m\u001b[1;33m)\u001b[0m\u001b[1;33m\u001b[0m\u001b[1;33m\u001b[0m\u001b[0m\n\u001b[0m",
      "\u001b[1;32mc:\\Camilo Restrepo\\CODE\\Cnn Lstm\\env\\lib\\site-packages\\pandas\\core\\frame.py\u001b[0m in \u001b[0;36m__getitem__\u001b[1;34m(self, key)\u001b[0m\n\u001b[0;32m   2904\u001b[0m             \u001b[1;32mif\u001b[0m \u001b[0mself\u001b[0m\u001b[1;33m.\u001b[0m\u001b[0mcolumns\u001b[0m\u001b[1;33m.\u001b[0m\u001b[0mnlevels\u001b[0m \u001b[1;33m>\u001b[0m \u001b[1;36m1\u001b[0m\u001b[1;33m:\u001b[0m\u001b[1;33m\u001b[0m\u001b[1;33m\u001b[0m\u001b[0m\n\u001b[0;32m   2905\u001b[0m                 \u001b[1;32mreturn\u001b[0m \u001b[0mself\u001b[0m\u001b[1;33m.\u001b[0m\u001b[0m_getitem_multilevel\u001b[0m\u001b[1;33m(\u001b[0m\u001b[0mkey\u001b[0m\u001b[1;33m)\u001b[0m\u001b[1;33m\u001b[0m\u001b[1;33m\u001b[0m\u001b[0m\n\u001b[1;32m-> 2906\u001b[1;33m             \u001b[0mindexer\u001b[0m \u001b[1;33m=\u001b[0m \u001b[0mself\u001b[0m\u001b[1;33m.\u001b[0m\u001b[0mcolumns\u001b[0m\u001b[1;33m.\u001b[0m\u001b[0mget_loc\u001b[0m\u001b[1;33m(\u001b[0m\u001b[0mkey\u001b[0m\u001b[1;33m)\u001b[0m\u001b[1;33m\u001b[0m\u001b[1;33m\u001b[0m\u001b[0m\n\u001b[0m\u001b[0;32m   2907\u001b[0m             \u001b[1;32mif\u001b[0m \u001b[0mis_integer\u001b[0m\u001b[1;33m(\u001b[0m\u001b[0mindexer\u001b[0m\u001b[1;33m)\u001b[0m\u001b[1;33m:\u001b[0m\u001b[1;33m\u001b[0m\u001b[1;33m\u001b[0m\u001b[0m\n\u001b[0;32m   2908\u001b[0m                 \u001b[0mindexer\u001b[0m \u001b[1;33m=\u001b[0m \u001b[1;33m[\u001b[0m\u001b[0mindexer\u001b[0m\u001b[1;33m]\u001b[0m\u001b[1;33m\u001b[0m\u001b[1;33m\u001b[0m\u001b[0m\n",
      "\u001b[1;32mc:\\Camilo Restrepo\\CODE\\Cnn Lstm\\env\\lib\\site-packages\\pandas\\core\\indexes\\base.py\u001b[0m in \u001b[0;36mget_loc\u001b[1;34m(self, key, method, tolerance)\u001b[0m\n\u001b[0;32m   2896\u001b[0m             \u001b[0mcasted_key\u001b[0m \u001b[1;33m=\u001b[0m \u001b[0mself\u001b[0m\u001b[1;33m.\u001b[0m\u001b[0m_maybe_cast_indexer\u001b[0m\u001b[1;33m(\u001b[0m\u001b[0mkey\u001b[0m\u001b[1;33m)\u001b[0m\u001b[1;33m\u001b[0m\u001b[1;33m\u001b[0m\u001b[0m\n\u001b[0;32m   2897\u001b[0m             \u001b[1;32mtry\u001b[0m\u001b[1;33m:\u001b[0m\u001b[1;33m\u001b[0m\u001b[1;33m\u001b[0m\u001b[0m\n\u001b[1;32m-> 2898\u001b[1;33m                 \u001b[1;32mreturn\u001b[0m \u001b[0mself\u001b[0m\u001b[1;33m.\u001b[0m\u001b[0m_engine\u001b[0m\u001b[1;33m.\u001b[0m\u001b[0mget_loc\u001b[0m\u001b[1;33m(\u001b[0m\u001b[0mcasted_key\u001b[0m\u001b[1;33m)\u001b[0m\u001b[1;33m\u001b[0m\u001b[1;33m\u001b[0m\u001b[0m\n\u001b[0m\u001b[0;32m   2899\u001b[0m             \u001b[1;32mexcept\u001b[0m \u001b[0mKeyError\u001b[0m \u001b[1;32mas\u001b[0m \u001b[0merr\u001b[0m\u001b[1;33m:\u001b[0m\u001b[1;33m\u001b[0m\u001b[1;33m\u001b[0m\u001b[0m\n\u001b[0;32m   2900\u001b[0m                 \u001b[1;32mraise\u001b[0m \u001b[0mKeyError\u001b[0m\u001b[1;33m(\u001b[0m\u001b[0mkey\u001b[0m\u001b[1;33m)\u001b[0m \u001b[1;32mfrom\u001b[0m \u001b[0merr\u001b[0m\u001b[1;33m\u001b[0m\u001b[1;33m\u001b[0m\u001b[0m\n",
      "\u001b[1;32mpandas\\_libs\\index.pyx\u001b[0m in \u001b[0;36mpandas._libs.index.IndexEngine.get_loc\u001b[1;34m()\u001b[0m\n",
      "\u001b[1;32mpandas\\_libs\\index.pyx\u001b[0m in \u001b[0;36mpandas._libs.index.IndexEngine.get_loc\u001b[1;34m()\u001b[0m\n",
      "\u001b[1;31mTypeError\u001b[0m: '(slice(None, None, None), 0, 0)' is an invalid key"
     ]
    }
   ],
   "source": [
    "plt.plot(np.arange(0,46),test[:,0,0])"
   ]
  },
  {
   "cell_type": "code",
   "execution_count": 103,
   "metadata": {},
   "outputs": [],
   "source": [
    "train, test = dataset[1:-328], dataset[-328:-6]"
   ]
  },
  {
   "source": [
    "len(dataset)"
   ],
   "cell_type": "code",
   "metadata": {},
   "execution_count": 106,
   "outputs": [
    {
     "output_type": "execute_result",
     "data": {
      "text/plain": [
       "1442"
      ]
     },
     "metadata": {},
     "execution_count": 106
    }
   ]
  },
  {
   "cell_type": "code",
   "execution_count": 94,
   "metadata": {},
   "outputs": [],
   "source": [
    "train = array(split(train, len(train)/7))\n",
    "test = array(split(test, len(test)/7))"
   ]
  },
  {
   "cell_type": "code",
   "execution_count": 95,
   "metadata": {},
   "outputs": [
    {
     "output_type": "execute_result",
     "data": {
      "text/plain": [
       "(46, 7, 8)"
      ]
     },
     "metadata": {},
     "execution_count": 95
    }
   ],
   "source": [
    "test.shape"
   ]
  },
  {
   "cell_type": "code",
   "execution_count": 101,
   "metadata": {},
   "outputs": [
    {
     "output_type": "execute_result",
     "data": {
      "text/plain": [
       "array([[2.50846600e+03, 2.27170000e+02, 3.51130490e+05, 1.04060000e+04,\n",
       "        3.56400000e+03, 2.03200000e+03, 1.41080000e+04, 2.21037667e+04],\n",
       "       [1.51868400e+03, 1.56206000e+02, 3.54339520e+05, 6.24260000e+03,\n",
       "        1.25100000e+03, 3.40000000e+02, 1.02790000e+04, 1.34414000e+04],\n",
       "       [1.99579600e+03, 2.02538000e+02, 3.52730520e+05, 8.26500000e+03,\n",
       "        1.80300000e+03, 3.64300000e+03, 1.25090000e+04, 1.53082667e+04],\n",
       "       [1.99579600e+03, 2.02538000e+02, 3.52730520e+05, 8.26500000e+03,\n",
       "        1.80300000e+03, 3.64300000e+03, 1.25090000e+04, 1.53082667e+04],\n",
       "       [2.11622400e+03, 2.39598000e+02, 3.52565090e+05, 8.80460000e+03,\n",
       "        2.44200000e+03, 3.72700000e+03, 1.24900000e+04, 1.66114000e+04],\n",
       "       [2.19676000e+03, 2.18290000e+02, 3.50965100e+05, 9.12240000e+03,\n",
       "        1.95700000e+03, 2.95200000e+03, 1.35460000e+04, 1.81576666e+04],\n",
       "       [2.15011200e+03, 2.42518000e+02, 3.49985140e+05, 8.95640000e+03,\n",
       "        2.60500000e+03, 2.41500000e+03, 1.36520000e+04, 1.71632000e+04]])"
      ]
     },
     "metadata": {},
     "execution_count": 101
    }
   ],
   "source": [
    "test[1,:,:]"
   ]
  }
 ]
}